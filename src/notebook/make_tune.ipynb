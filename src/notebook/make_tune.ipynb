{
 "metadata": {
  "kernelspec": {
   "language": "python",
   "display_name": "Python 3",
   "name": "python3"
  },
  "language_info": {
   "name": "python",
   "version": "3.10.12",
   "mimetype": "text/x-python",
   "codemirror_mode": {
    "name": "ipython",
    "version": 3
   },
   "pygments_lexer": "ipython3",
   "nbconvert_exporter": "python",
   "file_extension": ".py"
  },
  "kaggle": {
   "accelerator": "gpu",
   "dataSources": [
    {
     "sourceId": 10817631,
     "sourceType": "datasetVersion",
     "datasetId": 6716400
    },
    {
     "sourceId": 10826208,
     "sourceType": "datasetVersion",
     "datasetId": 6722562
    },
    {
     "sourceId": 10827193,
     "sourceType": "datasetVersion",
     "datasetId": 6723093
    },
    {
     "sourceId": 10835144,
     "sourceType": "datasetVersion",
     "datasetId": 6728554
    },
    {
     "sourceId": 223984494,
     "sourceType": "kernelVersion"
    },
    {
     "sourceId": 223984606,
     "sourceType": "kernelVersion"
    }
   ],
   "dockerImageVersionId": 30919,
   "isInternetEnabled": true,
   "language": "python",
   "sourceType": "notebook",
   "isGpuEnabled": true
  }
 },
 "nbformat_minor": 4,
 "nbformat": 4,
 "cells": [
  {
   "cell_type": "code",
   "source": "import os\nimport pickle\nimport keras\nimport numpy as np\nimport pandas as pd\nimport tensorflow as tf\nimport keras_tuner as kt",
   "metadata": {
    "ExecuteTime": {
     "end_time": "2025-02-23T01:00:16.673413Z",
     "start_time": "2025-02-23T01:00:16.670304Z"
    },
    "trusted": true,
    "execution": {
     "iopub.status.busy": "2025-02-24T02:32:58.931522Z",
     "iopub.execute_input": "2025-02-24T02:32:58.932112Z",
     "iopub.status.idle": "2025-02-24T02:32:58.936040Z",
     "shell.execute_reply.started": "2025-02-24T02:32:58.932084Z",
     "shell.execute_reply": "2025-02-24T02:32:58.935297Z"
    }
   },
   "outputs": [],
   "execution_count": 2
  },
  {
   "cell_type": "code",
   "source": "import tensorflow_text\nimport tensorflow_hub as hub\nfrom tensorflow.keras.models import load_model",
   "metadata": {
    "trusted": true,
    "execution": {
     "iopub.status.busy": "2025-02-24T02:32:58.956461Z",
     "iopub.execute_input": "2025-02-24T02:32:58.956672Z",
     "iopub.status.idle": "2025-02-24T02:33:00.587940Z",
     "shell.execute_reply.started": "2025-02-24T02:32:58.956654Z",
     "shell.execute_reply": "2025-02-24T02:33:00.587280Z"
    }
   },
   "outputs": [],
   "execution_count": 3
  },
  {
   "cell_type": "code",
   "source": "from tensorflow import keras\nfrom tensorflow.keras.layers import (\n    Input, Dense, Dropout, BatchNormalization\n)\nfrom tensorflow.keras.models import Model\nfrom tensorflow.keras.callbacks import (\n    ModelCheckpoint, EarlyStopping\n)\nfrom transformers import TFAutoModel, AutoTokenizer\nfrom sklearn.model_selection import StratifiedShuffleSplit",
   "metadata": {
    "ExecuteTime": {
     "end_time": "2025-02-23T01:00:15.023422Z",
     "start_time": "2025-02-23T01:00:15.016262Z"
    },
    "trusted": true,
    "execution": {
     "iopub.status.busy": "2025-02-24T02:33:00.588978Z",
     "iopub.execute_input": "2025-02-24T02:33:00.589181Z",
     "iopub.status.idle": "2025-02-24T02:33:07.626517Z",
     "shell.execute_reply.started": "2025-02-24T02:33:00.589163Z",
     "shell.execute_reply": "2025-02-24T02:33:07.625593Z"
    }
   },
   "outputs": [],
   "execution_count": 4
  },
  {
   "cell_type": "code",
   "source": "# run /kaggle/input/make-datasets\n# run /kaggle/input/make-embeddings",
   "metadata": {
    "trusted": true,
    "execution": {
     "iopub.status.busy": "2025-02-24T02:33:07.628337Z",
     "iopub.execute_input": "2025-02-24T02:33:07.628951Z",
     "iopub.status.idle": "2025-02-24T02:33:07.632281Z",
     "shell.execute_reply.started": "2025-02-24T02:33:07.628929Z",
     "shell.execute_reply": "2025-02-24T02:33:07.631308Z"
    }
   },
   "outputs": [],
   "execution_count": 5
  },
  {
   "cell_type": "code",
   "source": "get_embed = hub.load(\"https://tfhub.dev/google/universal-sentence-encoder-multilingual/3\")\n# bert_name = \"neuralmind/bert-base-portuguese-cased\"\n# bert_model = TFAutoModel.from_pretrained(bert_name)\n# tokenizer = AutoTokenizer.from_pretrained(bert_name)\n# def get_embed(texts, max_length=128):\n#     inputs = tokenizer(\n#         texts, padding=True, \n#         truncation=True, \n#         max_length=max_length, \n#         return_tensors=\"tf\")\n#     outputs = bert_model(inputs)\n#     embeds = outputs.last_hidden_state[:, 0, :]\n#     return embeds",
   "metadata": {
    "trusted": true,
    "execution": {
     "iopub.status.busy": "2025-02-24T02:33:07.633599Z",
     "iopub.execute_input": "2025-02-24T02:33:07.633947Z",
     "iopub.status.idle": "2025-02-24T02:33:17.389270Z",
     "shell.execute_reply.started": "2025-02-24T02:33:07.633911Z",
     "shell.execute_reply": "2025-02-24T02:33:17.388602Z"
    }
   },
   "outputs": [],
   "execution_count": 6
  },
  {
   "cell_type": "code",
   "source": "#df = pd.read_csv('/kaggle/input/datasets-snn/df.csv')\ndf = pd.read_csv('/kaggle/input/snn-datasets-0x1/df_fs.csv')\ndf.dropna(inplace=True)\ndf = df.reset_index(drop=True)\nprint(df.shape)\ndf.head()",
   "metadata": {
    "trusted": true,
    "execution": {
     "iopub.status.busy": "2025-02-24T02:33:17.390195Z",
     "iopub.execute_input": "2025-02-24T02:33:17.390523Z",
     "iopub.status.idle": "2025-02-24T02:33:17.441258Z",
     "shell.execute_reply.started": "2025-02-24T02:33:17.390495Z",
     "shell.execute_reply": "2025-02-24T02:33:17.440427Z"
    },
    "ExecuteTime": {
     "end_time": "2025-02-23T00:44:53.217270Z",
     "start_time": "2025-02-23T00:44:53.178476Z"
    }
   },
   "outputs": [
    {
     "name": "stdout",
     "text": "(4020, 5)\n",
     "output_type": "stream"
    },
    {
     "execution_count": 7,
     "output_type": "execute_result",
     "data": {
      "text/plain": "                                                name  price      category  \\\n0                   aro de aco rolete polegada axion  24.90  complementos   \n1         luva soldavel com rosca em pvc pol fortlev   1.89      conexoes   \n2         te reducao esgoto sn em pvc branco fortlev  16.90      conexoes   \n3                 te esgoto sn em pvc branco fortlev   2.59      conexoes   \n4  ralo sifonado quadrado em pvc xxmm branco fortlev  10.90      conexoes   \n\n     brand  target  \n0    AXION       2  \n1  FORTLEV       3  \n2  FORTLEV       3  \n3  FORTLEV       3  \n4  FORTLEV       3  ",
      "text/html": "<div>\n<style scoped>\n    .dataframe tbody tr th:only-of-type {\n        vertical-align: middle;\n    }\n\n    .dataframe tbody tr th {\n        vertical-align: top;\n    }\n\n    .dataframe thead th {\n        text-align: right;\n    }\n</style>\n<table border=\"1\" class=\"dataframe\">\n  <thead>\n    <tr style=\"text-align: right;\">\n      <th></th>\n      <th>name</th>\n      <th>price</th>\n      <th>category</th>\n      <th>brand</th>\n      <th>target</th>\n    </tr>\n  </thead>\n  <tbody>\n    <tr>\n      <th>0</th>\n      <td>aro de aco rolete polegada axion</td>\n      <td>24.90</td>\n      <td>complementos</td>\n      <td>AXION</td>\n      <td>2</td>\n    </tr>\n    <tr>\n      <th>1</th>\n      <td>luva soldavel com rosca em pvc pol fortlev</td>\n      <td>1.89</td>\n      <td>conexoes</td>\n      <td>FORTLEV</td>\n      <td>3</td>\n    </tr>\n    <tr>\n      <th>2</th>\n      <td>te reducao esgoto sn em pvc branco fortlev</td>\n      <td>16.90</td>\n      <td>conexoes</td>\n      <td>FORTLEV</td>\n      <td>3</td>\n    </tr>\n    <tr>\n      <th>3</th>\n      <td>te esgoto sn em pvc branco fortlev</td>\n      <td>2.59</td>\n      <td>conexoes</td>\n      <td>FORTLEV</td>\n      <td>3</td>\n    </tr>\n    <tr>\n      <th>4</th>\n      <td>ralo sifonado quadrado em pvc xxmm branco fortlev</td>\n      <td>10.90</td>\n      <td>conexoes</td>\n      <td>FORTLEV</td>\n      <td>3</td>\n    </tr>\n  </tbody>\n</table>\n</div>"
     },
     "metadata": {}
    }
   ],
   "execution_count": 7
  },
  {
   "cell_type": "code",
   "source": "def split_data(df):\n    sss = StratifiedShuffleSplit(n_splits=1, test_size=0.2, random_state=42)\n    for train_valid_idx, test_idx in sss.split(df, df['target']):\n        train_valid = df.loc[train_valid_idx].reset_index(drop=True)\n        test = df.loc[test_idx].reset_index(drop=True)\n\n    sss = StratifiedShuffleSplit(n_splits=1, test_size=0.25, random_state=42)\n    for train_idx, valid_idx in sss.split(train_valid, train_valid['target']):\n        train = train_valid.loc[train_idx].reset_index(drop=True)\n        valid = train_valid.loc[valid_idx].reset_index(drop=True)\n\n    return train, valid, test\n\n\ntrain, test, valid = split_data(df)\nembed_dim = get_embed(train.loc[:1, 'name'].values.tolist()).shape[1]\nprint(f\"train: {train.shape}, test: {test.shape}, valid: {valid.shape}, embe: {embed_dim}\")\nprint(train.shape, test.shape, valid.shape)",
   "metadata": {
    "trusted": true,
    "execution": {
     "iopub.status.busy": "2025-02-24T02:33:17.442285Z",
     "iopub.execute_input": "2025-02-24T02:33:17.442538Z",
     "iopub.status.idle": "2025-02-24T02:33:20.180393Z",
     "shell.execute_reply.started": "2025-02-24T02:33:17.442518Z",
     "shell.execute_reply": "2025-02-24T02:33:20.179449Z"
    }
   },
   "outputs": [
    {
     "name": "stdout",
     "text": "train: (2412, 5), test: (804, 5), valid: (804, 5), embe: 512\n(2412, 5) (804, 5) (804, 5)\n",
     "output_type": "stream"
    }
   ],
   "execution_count": 8
  },
  {
   "cell_type": "code",
   "source": "class L2NormalizeLayer(keras.Layer):\n    def __init__(self, **kwargs):\n        super(L2NormalizeLayer, self).__init__(**kwargs)\n\n    def call(self, inputs):\n        return tf.math.l2_normalize(inputs, axis=1)\n\nclass TripletLossBlock(keras.Layer):\n    def __init__(self, alpha, **kwargs):\n        self.alpha = alpha\n        super(TripletLossBlock, self).__init__(**kwargs)\n    \n    def triplet_loss(self, inputs):\n        a, p, n = inputs\n        p_dist = keras.ops.sum(keras.ops.square(a - p), axis=-1)\n        n_dist = keras.ops.sum(keras.ops.square(a - n), axis=-1)\n        return keras.ops.sum(keras.ops.maximum(p_dist - n_dist + self.alpha, 0), axis=0)\n    \n    def call(self, inputs):\n        loss = self.triplet_loss(inputs)\n        self.add_loss(loss)\n        return loss\n        \ndef build_model(hp):\n    input_one = Input(shape=(embed_dim,))\n    \n    dense1_units = hp.Int('dense1_units', min_value=128, max_value=512, step=64)\n    dense2_units = hp.Int('dense2_units', min_value=64, max_value=256, step=32)\n    dense3_units = hp.Int('dense3_units', min_value=64, max_value=256, step=16)\n    dense_layer = hp.Int('dense_layer', min_value=64, max_value=128, step=32)\n    \n    x = Dense(units=dense1_units, activation='relu')(input_one)\n    x = Dropout(hp.Float('dropout1', min_value=0.2, max_value=0.5, step=0.1))(x)\n    x = BatchNormalization()(x)\n    \n    x = Dense(units=dense2_units, activation='relu', \n              kernel_regularizer=keras.regularizers.l2(\n                  hp.Float('l2_reg', min_value=0.001, max_value=0.01, sampling='log')))(x)\n    x = Dropout(hp.Float('dropout2', min_value=0.2, max_value=0.5, step=0.1))(x)\n\n    x = Dense(units=dense3_units, activation='relu')(input_one)\n    x = Dropout(hp.Float('dropout3', min_value=0.2, max_value=0.5, step=0.1))(x)\n    x = BatchNormalization()(x)\n    \n    dense_layer = Dense(units=dense_layer, name='dense_layer')(x)\n    norm_layer = L2NormalizeLayer(name='norm_layer')(dense_layer)\n    \n    base_model = Model(inputs=input_one, outputs=norm_layer, name='base_model')\n    \n    input_a = Input(shape=(embed_dim,))\n    input_p = Input(shape=(embed_dim,))\n    input_n = Input(shape=(embed_dim,))\n    \n    embed_a = base_model(input_a)\n    embed_p = base_model(input_p)\n    embed_n = base_model(input_n)\n    \n    alpha = hp.Float('alpha', min_value=0.2, max_value=0.8, step=0.2)\n    triplet_loss = TripletLossBlock(\n        alpha=alpha, name='triplet_loss_block')([embed_a, embed_p, embed_n])\n    \n    snn_model = Model([input_a, input_p, input_n], triplet_loss)\n    \n    snn_model.compile(\n        optimizer=keras.optimizers.Adam(\n            hp.Float('learning_rate', min_value=1e-4, max_value=1e-2, sampling='log')),\n        loss=None\n    )\n    \n    return snn_model\n\ntuner = kt.RandomSearch(\n    build_model,\n    objective='val_loss',\n    max_trials=20,\n    executions_per_trial=1,\n    directory='hyperparam_tuning_bert',\n    project_name='siamese_bert_tuning'\n)\n\ntuner.search_space_summary()",
   "metadata": {
    "trusted": true,
    "execution": {
     "iopub.status.busy": "2025-02-24T02:33:20.181386Z",
     "iopub.execute_input": "2025-02-24T02:33:20.181685Z",
     "iopub.status.idle": "2025-02-24T02:33:21.186022Z",
     "shell.execute_reply.started": "2025-02-24T02:33:20.181661Z",
     "shell.execute_reply": "2025-02-24T02:33:21.185307Z"
    },
    "ExecuteTime": {
     "end_time": "2025-02-23T00:57:09.439397Z",
     "start_time": "2025-02-23T00:57:09.371635Z"
    }
   },
   "outputs": [
    {
     "name": "stdout",
     "text": "Search space summary\nDefault search space size: 10\ndense1_units (Int)\n{'default': None, 'conditions': [], 'min_value': 128, 'max_value': 512, 'step': 64, 'sampling': 'linear'}\ndense2_units (Int)\n{'default': None, 'conditions': [], 'min_value': 64, 'max_value': 256, 'step': 32, 'sampling': 'linear'}\ndense3_units (Int)\n{'default': None, 'conditions': [], 'min_value': 64, 'max_value': 256, 'step': 16, 'sampling': 'linear'}\ndense_layer (Int)\n{'default': None, 'conditions': [], 'min_value': 64, 'max_value': 128, 'step': 32, 'sampling': 'linear'}\ndropout1 (Float)\n{'default': 0.2, 'conditions': [], 'min_value': 0.2, 'max_value': 0.5, 'step': 0.1, 'sampling': 'linear'}\nl2_reg (Float)\n{'default': 0.001, 'conditions': [], 'min_value': 0.001, 'max_value': 0.01, 'step': None, 'sampling': 'log'}\ndropout2 (Float)\n{'default': 0.2, 'conditions': [], 'min_value': 0.2, 'max_value': 0.5, 'step': 0.1, 'sampling': 'linear'}\ndropout3 (Float)\n{'default': 0.2, 'conditions': [], 'min_value': 0.2, 'max_value': 0.5, 'step': 0.1, 'sampling': 'linear'}\nalpha (Float)\n{'default': 0.2, 'conditions': [], 'min_value': 0.2, 'max_value': 0.8, 'step': 0.2, 'sampling': 'linear'}\nlearning_rate (Float)\n{'default': 0.0001, 'conditions': [], 'min_value': 0.0001, 'max_value': 0.01, 'step': None, 'sampling': 'log'}\n",
     "output_type": "stream"
    }
   ],
   "execution_count": 9
  },
  {
   "cell_type": "code",
   "source": "def get_triplets(unique_labels, label_indices_map):\n    label_l, label_r = np.random.choice(unique_labels, 2, replace=False)\n    a, p = np.random.choice(label_indices_map[label_l], 2, replace=False)\n    n = np.random.choice(label_indices_map[label_r])\n    return a, p, n\n\ndef get_batch(batch_size, dataset, unique_labels, label_indices_map, get_embed):\n    while True:\n        idxs_a, idxs_p, idxs_n = [], [], []\n        for _ in range(batch_size):\n            a, p, n = get_triplets(unique_labels, label_indices_map)\n            idxs_a.append(a)\n            idxs_p.append(p)\n            idxs_n.append(n)\n\n        a = dataset.iloc[idxs_a].values.tolist()\n        b = dataset.iloc[idxs_p].values.tolist()\n        c = dataset.iloc[idxs_n].values.tolist()\n\n        a = get_embed(a).numpy()\n        p = get_embed(b).numpy()\n        n = get_embed(c).numpy()\n\n        yield a, p, n\n\ndef create_label_indices_map(dataset, collabel):\n    unique_labels = np.array(dataset[collabel].unique().tolist())\n    labels = np.array(dataset[collabel].tolist())\n    label_indices_map = {\n        label: np.flatnonzero(labels == label)\n        for label in unique_labels\n    }\n    return unique_labels, label_indices_map\n\ndef triplet_generator(batch_size, dataset, unique_labels, label_indices_map, get_embed):\n    while True:\n        for a, p, n in get_batch(batch_size, dataset, unique_labels, label_indices_map, get_embed):\n            yield (a, p, n), np.zeros((batch_size,))\n\ndef create_trip_dtset(batch_size, dataset, colfeat, collabel, get_embed, embed_dim=512):\n    unique_labels, label_indices_map = create_label_indices_map(dataset, collabel)\n    \n    output_signature = (\n        (\n            tf.TensorSpec(shape=(None, embed_dim), dtype=tf.float32),\n            tf.TensorSpec(shape=(None, embed_dim), dtype=tf.float32),\n            tf.TensorSpec(shape=(None, embed_dim), dtype=tf.float32)\n        ),\n        tf.TensorSpec(shape=(None,), dtype=tf.float32)\n    )\n    \n    dataset_tf = tf.data.Dataset.from_generator(\n        lambda: triplet_generator(\n            batch_size, dataset[colfeat], unique_labels, label_indices_map, get_embed),\n        output_signature=output_signature\n    )\n    return dataset_tf",
   "metadata": {
    "trusted": true,
    "execution": {
     "iopub.status.busy": "2025-02-24T02:33:21.188265Z",
     "iopub.execute_input": "2025-02-24T02:33:21.188477Z",
     "iopub.status.idle": "2025-02-24T02:33:21.197173Z",
     "shell.execute_reply.started": "2025-02-24T02:33:21.188459Z",
     "shell.execute_reply": "2025-02-24T02:33:21.196488Z"
    }
   },
   "outputs": [],
   "execution_count": 10
  },
  {
   "cell_type": "code",
   "source": "batch_size, colfeat, collabel = 64, 'name', 'target'\ntrain = train\nvalid = valid\ndataset_train = create_trip_dtset(batch_size, train, colfeat, collabel, get_embed, embed_dim)\ndataset_val = create_trip_dtset(batch_size, valid, colfeat, collabel, get_embed, embed_dim)\nsteps = len(train) // batch_size\ndataset_train",
   "metadata": {
    "trusted": true,
    "execution": {
     "iopub.status.busy": "2025-02-24T02:33:21.198487Z",
     "iopub.execute_input": "2025-02-24T02:33:21.198781Z",
     "iopub.status.idle": "2025-02-24T02:33:21.270414Z",
     "shell.execute_reply.started": "2025-02-24T02:33:21.198750Z",
     "shell.execute_reply": "2025-02-24T02:33:21.269682Z"
    },
    "ExecuteTime": {
     "end_time": "2025-02-23T00:59:31.172914Z",
     "start_time": "2025-02-23T00:59:31.122422Z"
    }
   },
   "outputs": [
    {
     "execution_count": 11,
     "output_type": "execute_result",
     "data": {
      "text/plain": "<_FlatMapDataset element_spec=((TensorSpec(shape=(None, 512), dtype=tf.float32, name=None), TensorSpec(shape=(None, 512), dtype=tf.float32, name=None), TensorSpec(shape=(None, 512), dtype=tf.float32, name=None)), TensorSpec(shape=(None,), dtype=tf.float32, name=None))>"
     },
     "metadata": {}
    }
   ],
   "execution_count": 11
  },
  {
   "cell_type": "code",
   "source": "checkpoint = ModelCheckpoint(\n    filepath='besta_snn_model.keras',\n    monitor='val_loss',\n    mode='min',\n    save_best_only=True,\n    verbose=1\n)\n\nearly_stopping = EarlyStopping(\n    monitor='val_loss',\n    patience=5,\n    verbose=1,\n    restore_best_weights=True\n)\n\ntuner.search(\n    dataset_train,\n    epochs=100,\n    steps_per_epoch=steps,\n    validation_data=dataset_val,\n    validation_steps=steps,\n    callbacks=[checkpoint, early_stopping]\n)",
   "metadata": {
    "trusted": true,
    "execution": {
     "iopub.status.busy": "2025-02-24T02:33:21.271245Z",
     "iopub.execute_input": "2025-02-24T02:33:21.271513Z",
     "iopub.status.idle": "2025-02-24T02:47:42.236001Z",
     "shell.execute_reply.started": "2025-02-24T02:33:21.271478Z",
     "shell.execute_reply": "2025-02-24T02:47:42.235277Z"
    }
   },
   "outputs": [
    {
     "name": "stdout",
     "text": "Trial 20 Complete [00h 00m 39s]\nval_loss: 0.49811220169067383\n\nBest val_loss So Far: 0.3929402530193329\nTotal elapsed time: 00h 14m 21s\n",
     "output_type": "stream"
    }
   ],
   "execution_count": 12
  },
  {
   "cell_type": "code",
   "source": "best_hps = tuner.get_best_hyperparameters(num_trials=1)[0]\nprint(\"Melhores hiperparâmetros encontrados:\")\nprint(f\" - dense1_units: {best_hps.get('dense1_units')}\")\nprint(f\" - dense2_units: {best_hps.get('dense2_units')}\")\nprint(f\" - dense3_units: {best_hps.get('dense3_units')}\")\nprint(f\" - dense_layer_final: {best_hps.get('dense_layer')}\")\nprint(f\" - dropout1: {best_hps.get('dropout1')}\")\nprint(f\" - dropout2: {best_hps.get('dropout2')}\")\nprint(f\" - dropout3: {best_hps.get('dropout2')}\")\nprint(f\" - l2_reg: {best_hps.get('l2_reg')}\")\nprint(f\" - alpha: {best_hps.get('alpha')}\")\nprint(f\" - learning_rate: {best_hps.get('learning_rate')}\")",
   "metadata": {
    "trusted": true,
    "execution": {
     "iopub.status.busy": "2025-02-24T02:47:42.236846Z",
     "iopub.execute_input": "2025-02-24T02:47:42.237149Z",
     "iopub.status.idle": "2025-02-24T02:47:42.244542Z",
     "shell.execute_reply.started": "2025-02-24T02:47:42.237117Z",
     "shell.execute_reply": "2025-02-24T02:47:42.243795Z"
    }
   },
   "outputs": [
    {
     "name": "stdout",
     "text": "Melhores hiperparâmetros encontrados:\n - dense1_units: 256\n - dense2_units: 64\n - dense3_units: 256\n - dense_layer_final: 128\n - dropout1: 0.2\n - dropout2: 0.4\n - dropout3: 0.4\n - l2_reg: 0.007347869869871025\n - alpha: 0.2\n - learning_rate: 0.0028505050405801123\n",
     "output_type": "stream"
    }
   ],
   "execution_count": 13
  },
  {
   "cell_type": "code",
   "source": "best_snn = tuner.hypermodel.build(best_hps)\nbest_snn.fit(\n    dataset_train,\n    epochs=100,\n    steps_per_epoch=steps,\n    validation_data=dataset_val,\n    validation_steps=steps,\n    callbacks=[checkpoint, early_stopping]\n)",
   "metadata": {
    "trusted": true,
    "execution": {
     "iopub.status.busy": "2025-02-24T02:47:42.245184Z",
     "iopub.execute_input": "2025-02-24T02:47:42.245427Z",
     "iopub.status.idle": "2025-02-24T02:48:12.926108Z",
     "shell.execute_reply.started": "2025-02-24T02:47:42.245409Z",
     "shell.execute_reply": "2025-02-24T02:48:12.925429Z"
    }
   },
   "outputs": [
    {
     "name": "stdout",
     "text": "Epoch 1/100\n\u001B[1m36/37\u001B[0m \u001B[32m━━━━━━━━━━━━━━━━━━━\u001B[0m\u001B[37m━\u001B[0m \u001B[1m0s\u001B[0m 28ms/step - loss: 6.3747\nEpoch 1: val_loss improved from inf to 1.61747, saving model to besta_snn_model.keras\n\u001B[1m37/37\u001B[0m \u001B[32m━━━━━━━━━━━━━━━━━━━━\u001B[0m\u001B[37m\u001B[0m \u001B[1m6s\u001B[0m 71ms/step - loss: 6.2752 - val_loss: 1.6175\nEpoch 2/100\n\u001B[1m36/37\u001B[0m \u001B[32m━━━━━━━━━━━━━━━━━━━\u001B[0m\u001B[37m━\u001B[0m \u001B[1m0s\u001B[0m 28ms/step - loss: 2.2423\nEpoch 2: val_loss improved from 1.61747 to 1.39853, saving model to besta_snn_model.keras\n\u001B[1m37/37\u001B[0m \u001B[32m━━━━━━━━━━━━━━━━━━━━\u001B[0m\u001B[37m\u001B[0m \u001B[1m2s\u001B[0m 58ms/step - loss: 2.2427 - val_loss: 1.3985\nEpoch 3/100\n\u001B[1m36/37\u001B[0m \u001B[32m━━━━━━━━━━━━━━━━━━━\u001B[0m\u001B[37m━\u001B[0m \u001B[1m0s\u001B[0m 26ms/step - loss: 1.6008\nEpoch 3: val_loss improved from 1.39853 to 1.26818, saving model to besta_snn_model.keras\n\u001B[1m37/37\u001B[0m \u001B[32m━━━━━━━━━━━━━━━━━━━━\u001B[0m\u001B[37m\u001B[0m \u001B[1m2s\u001B[0m 56ms/step - loss: 1.5975 - val_loss: 1.2682\nEpoch 4/100\n\u001B[1m36/37\u001B[0m \u001B[32m━━━━━━━━━━━━━━━━━━━\u001B[0m\u001B[37m━\u001B[0m \u001B[1m0s\u001B[0m 25ms/step - loss: 1.2004\nEpoch 4: val_loss improved from 1.26818 to 1.07484, saving model to besta_snn_model.keras\n\u001B[1m37/37\u001B[0m \u001B[32m━━━━━━━━━━━━━━━━━━━━\u001B[0m\u001B[37m\u001B[0m \u001B[1m2s\u001B[0m 55ms/step - loss: 1.1957 - val_loss: 1.0748\nEpoch 5/100\n\u001B[1m36/37\u001B[0m \u001B[32m━━━━━━━━━━━━━━━━━━━\u001B[0m\u001B[37m━\u001B[0m \u001B[1m0s\u001B[0m 21ms/step - loss: 1.1835\nEpoch 5: val_loss improved from 1.07484 to 1.00695, saving model to besta_snn_model.keras\n\u001B[1m37/37\u001B[0m \u001B[32m━━━━━━━━━━━━━━━━━━━━\u001B[0m\u001B[37m\u001B[0m \u001B[1m2s\u001B[0m 49ms/step - loss: 1.1835 - val_loss: 1.0069\nEpoch 6/100\n\u001B[1m36/37\u001B[0m \u001B[32m━━━━━━━━━━━━━━━━━━━\u001B[0m\u001B[37m━\u001B[0m \u001B[1m0s\u001B[0m 14ms/step - loss: 0.7505\nEpoch 6: val_loss improved from 1.00695 to 0.82681, saving model to besta_snn_model.keras\n\u001B[1m37/37\u001B[0m \u001B[32m━━━━━━━━━━━━━━━━━━━━\u001B[0m\u001B[37m\u001B[0m \u001B[1m2s\u001B[0m 42ms/step - loss: 0.7582 - val_loss: 0.8268\nEpoch 7/100\n\u001B[1m36/37\u001B[0m \u001B[32m━━━━━━━━━━━━━━━━━━━\u001B[0m\u001B[37m━\u001B[0m \u001B[1m0s\u001B[0m 14ms/step - loss: 0.8952\nEpoch 7: val_loss did not improve from 0.82681\n\u001B[1m37/37\u001B[0m \u001B[32m━━━━━━━━━━━━━━━━━━━━\u001B[0m\u001B[37m\u001B[0m \u001B[1m1s\u001B[0m 38ms/step - loss: 0.8920 - val_loss: 0.8462\nEpoch 8/100\n\u001B[1m37/37\u001B[0m \u001B[32m━━━━━━━━━━━━━━━━━━━━\u001B[0m\u001B[37m\u001B[0m \u001B[1m0s\u001B[0m 17ms/step - loss: 0.8572\nEpoch 8: val_loss did not improve from 0.82681\n\u001B[1m37/37\u001B[0m \u001B[32m━━━━━━━━━━━━━━━━━━━━\u001B[0m\u001B[37m\u001B[0m \u001B[1m1s\u001B[0m 41ms/step - loss: 0.8572 - val_loss: 0.9496\nEpoch 9/100\n\u001B[1m36/37\u001B[0m \u001B[32m━━━━━━━━━━━━━━━━━━━\u001B[0m\u001B[37m━\u001B[0m \u001B[1m0s\u001B[0m 17ms/step - loss: 0.7406\nEpoch 9: val_loss did not improve from 0.82681\n\u001B[1m37/37\u001B[0m \u001B[32m━━━━━━━━━━━━━━━━━━━━\u001B[0m\u001B[37m\u001B[0m \u001B[1m1s\u001B[0m 41ms/step - loss: 0.7384 - val_loss: 0.9663\nEpoch 10/100\n\u001B[1m36/37\u001B[0m \u001B[32m━━━━━━━━━━━━━━━━━━━\u001B[0m\u001B[37m━\u001B[0m \u001B[1m0s\u001B[0m 16ms/step - loss: 0.6581\nEpoch 10: val_loss improved from 0.82681 to 0.66261, saving model to besta_snn_model.keras\n\u001B[1m37/37\u001B[0m \u001B[32m━━━━━━━━━━━━━━━━━━━━\u001B[0m\u001B[37m\u001B[0m \u001B[1m2s\u001B[0m 47ms/step - loss: 0.6555 - val_loss: 0.6626\nEpoch 11/100\n\u001B[1m37/37\u001B[0m \u001B[32m━━━━━━━━━━━━━━━━━━━━\u001B[0m\u001B[37m\u001B[0m \u001B[1m0s\u001B[0m 19ms/step - loss: 0.4679\nEpoch 11: val_loss improved from 0.66261 to 0.50575, saving model to besta_snn_model.keras\n\u001B[1m37/37\u001B[0m \u001B[32m━━━━━━━━━━━━━━━━━━━━\u001B[0m\u001B[37m\u001B[0m \u001B[1m2s\u001B[0m 47ms/step - loss: 0.4695 - val_loss: 0.5057\nEpoch 12/100\n\u001B[1m36/37\u001B[0m \u001B[32m━━━━━━━━━━━━━━━━━━━\u001B[0m\u001B[37m━\u001B[0m \u001B[1m0s\u001B[0m 14ms/step - loss: 0.4292\nEpoch 12: val_loss did not improve from 0.50575\n\u001B[1m37/37\u001B[0m \u001B[32m━━━━━━━━━━━━━━━━━━━━\u001B[0m\u001B[37m\u001B[0m \u001B[1m1s\u001B[0m 39ms/step - loss: 0.4283 - val_loss: 0.6065\nEpoch 13/100\n\u001B[1m36/37\u001B[0m \u001B[32m━━━━━━━━━━━━━━━━━━━\u001B[0m\u001B[37m━\u001B[0m \u001B[1m0s\u001B[0m 17ms/step - loss: 0.3168\nEpoch 13: val_loss did not improve from 0.50575\n\u001B[1m37/37\u001B[0m \u001B[32m━━━━━━━━━━━━━━━━━━━━\u001B[0m\u001B[37m\u001B[0m \u001B[1m1s\u001B[0m 41ms/step - loss: 0.3229 - val_loss: 0.5748\nEpoch 14/100\n\u001B[1m36/37\u001B[0m \u001B[32m━━━━━━━━━━━━━━━━━━━\u001B[0m\u001B[37m━\u001B[0m \u001B[1m0s\u001B[0m 16ms/step - loss: 0.4695\nEpoch 14: val_loss did not improve from 0.50575\n\u001B[1m37/37\u001B[0m \u001B[32m━━━━━━━━━━━━━━━━━━━━\u001B[0m\u001B[37m\u001B[0m \u001B[1m1s\u001B[0m 41ms/step - loss: 0.4660 - val_loss: 0.5497\nEpoch 15/100\n\u001B[1m36/37\u001B[0m \u001B[32m━━━━━━━━━━━━━━━━━━━\u001B[0m\u001B[37m━\u001B[0m \u001B[1m0s\u001B[0m 16ms/step - loss: 0.3856\nEpoch 15: val_loss did not improve from 0.50575\n\u001B[1m37/37\u001B[0m \u001B[32m━━━━━━━━━━━━━━━━━━━━\u001B[0m\u001B[37m\u001B[0m \u001B[1m1s\u001B[0m 41ms/step - loss: 0.3910 - val_loss: 0.6915\nEpoch 16/100\n\u001B[1m36/37\u001B[0m \u001B[32m━━━━━━━━━━━━━━━━━━━\u001B[0m\u001B[37m━\u001B[0m \u001B[1m0s\u001B[0m 16ms/step - loss: 0.4825\nEpoch 16: val_loss did not improve from 0.50575\n\u001B[1m37/37\u001B[0m \u001B[32m━━━━━━━━━━━━━━━━━━━━\u001B[0m\u001B[37m\u001B[0m \u001B[1m1s\u001B[0m 41ms/step - loss: 0.4804 - val_loss: 0.5730\nEpoch 16: early stopping\nRestoring model weights from the end of the best epoch: 11.\n",
     "output_type": "stream"
    },
    {
     "execution_count": 14,
     "output_type": "execute_result",
     "data": {
      "text/plain": "<keras.src.callbacks.history.History at 0x7ef9d0361090>"
     },
     "metadata": {}
    }
   ],
   "execution_count": 14
  },
  {
   "cell_type": "code",
   "source": "best_snn.summary()",
   "metadata": {
    "trusted": true,
    "execution": {
     "iopub.status.busy": "2025-02-24T02:48:12.926915Z",
     "iopub.execute_input": "2025-02-24T02:48:12.927265Z",
     "iopub.status.idle": "2025-02-24T02:48:12.946509Z",
     "shell.execute_reply.started": "2025-02-24T02:48:12.927200Z",
     "shell.execute_reply": "2025-02-24T02:48:12.945701Z"
    }
   },
   "outputs": [
    {
     "output_type": "display_data",
     "data": {
      "text/plain": "\u001B[1mModel: \"functional_1\"\u001B[0m\n",
      "text/html": "<pre style=\"white-space:pre;overflow-x:auto;line-height:normal;font-family:Menlo,'DejaVu Sans Mono',consolas,'Courier New',monospace\"><span style=\"font-weight: bold\">Model: \"functional_1\"</span>\n</pre>\n"
     },
     "metadata": {}
    },
    {
     "output_type": "display_data",
     "data": {
      "text/plain": "┏━━━━━━━━━━━━━━━━━━━━━━━━━━━┳━━━━━━━━━━━━━━━━━━━━━━━━┳━━━━━━━━━━━━━━━━┳━━━━━━━━━━━━━━━━━━━━━━━━┓\n┃\u001B[1m \u001B[0m\u001B[1mLayer (type)             \u001B[0m\u001B[1m \u001B[0m┃\u001B[1m \u001B[0m\u001B[1mOutput Shape          \u001B[0m\u001B[1m \u001B[0m┃\u001B[1m \u001B[0m\u001B[1m       Param #\u001B[0m\u001B[1m \u001B[0m┃\u001B[1m \u001B[0m\u001B[1mConnected to          \u001B[0m\u001B[1m \u001B[0m┃\n┡━━━━━━━━━━━━━━━━━━━━━━━━━━━╇━━━━━━━━━━━━━━━━━━━━━━━━╇━━━━━━━━━━━━━━━━╇━━━━━━━━━━━━━━━━━━━━━━━━┩\n│ input_layer_5             │ (\u001B[38;5;45mNone\u001B[0m, \u001B[38;5;34m512\u001B[0m)            │              \u001B[38;5;34m0\u001B[0m │ -                      │\n│ (\u001B[38;5;33mInputLayer\u001B[0m)              │                        │                │                        │\n├───────────────────────────┼────────────────────────┼────────────────┼────────────────────────┤\n│ input_layer_6             │ (\u001B[38;5;45mNone\u001B[0m, \u001B[38;5;34m512\u001B[0m)            │              \u001B[38;5;34m0\u001B[0m │ -                      │\n│ (\u001B[38;5;33mInputLayer\u001B[0m)              │                        │                │                        │\n├───────────────────────────┼────────────────────────┼────────────────┼────────────────────────┤\n│ input_layer_7             │ (\u001B[38;5;45mNone\u001B[0m, \u001B[38;5;34m512\u001B[0m)            │              \u001B[38;5;34m0\u001B[0m │ -                      │\n│ (\u001B[38;5;33mInputLayer\u001B[0m)              │                        │                │                        │\n├───────────────────────────┼────────────────────────┼────────────────┼────────────────────────┤\n│ base_model (\u001B[38;5;33mFunctional\u001B[0m)   │ (\u001B[38;5;45mNone\u001B[0m, \u001B[38;5;34m128\u001B[0m)            │        \u001B[38;5;34m165,248\u001B[0m │ input_layer_5[\u001B[38;5;34m0\u001B[0m][\u001B[38;5;34m0\u001B[0m],   │\n│                           │                        │                │ input_layer_6[\u001B[38;5;34m0\u001B[0m][\u001B[38;5;34m0\u001B[0m],   │\n│                           │                        │                │ input_layer_7[\u001B[38;5;34m0\u001B[0m][\u001B[38;5;34m0\u001B[0m]    │\n├───────────────────────────┼────────────────────────┼────────────────┼────────────────────────┤\n│ triplet_loss_block        │ ()                     │              \u001B[38;5;34m0\u001B[0m │ base_model[\u001B[38;5;34m0\u001B[0m][\u001B[38;5;34m0\u001B[0m],      │\n│ (\u001B[38;5;33mTripletLossBlock\u001B[0m)        │                        │                │ base_model[\u001B[38;5;34m1\u001B[0m][\u001B[38;5;34m0\u001B[0m],      │\n│                           │                        │                │ base_model[\u001B[38;5;34m2\u001B[0m][\u001B[38;5;34m0\u001B[0m]       │\n└───────────────────────────┴────────────────────────┴────────────────┴────────────────────────┘\n",
      "text/html": "<pre style=\"white-space:pre;overflow-x:auto;line-height:normal;font-family:Menlo,'DejaVu Sans Mono',consolas,'Courier New',monospace\">┏━━━━━━━━━━━━━━━━━━━━━━━━━━━┳━━━━━━━━━━━━━━━━━━━━━━━━┳━━━━━━━━━━━━━━━━┳━━━━━━━━━━━━━━━━━━━━━━━━┓\n┃<span style=\"font-weight: bold\"> Layer (type)              </span>┃<span style=\"font-weight: bold\"> Output Shape           </span>┃<span style=\"font-weight: bold\">        Param # </span>┃<span style=\"font-weight: bold\"> Connected to           </span>┃\n┡━━━━━━━━━━━━━━━━━━━━━━━━━━━╇━━━━━━━━━━━━━━━━━━━━━━━━╇━━━━━━━━━━━━━━━━╇━━━━━━━━━━━━━━━━━━━━━━━━┩\n│ input_layer_5             │ (<span style=\"color: #00d7ff; text-decoration-color: #00d7ff\">None</span>, <span style=\"color: #00af00; text-decoration-color: #00af00\">512</span>)            │              <span style=\"color: #00af00; text-decoration-color: #00af00\">0</span> │ -                      │\n│ (<span style=\"color: #0087ff; text-decoration-color: #0087ff\">InputLayer</span>)              │                        │                │                        │\n├───────────────────────────┼────────────────────────┼────────────────┼────────────────────────┤\n│ input_layer_6             │ (<span style=\"color: #00d7ff; text-decoration-color: #00d7ff\">None</span>, <span style=\"color: #00af00; text-decoration-color: #00af00\">512</span>)            │              <span style=\"color: #00af00; text-decoration-color: #00af00\">0</span> │ -                      │\n│ (<span style=\"color: #0087ff; text-decoration-color: #0087ff\">InputLayer</span>)              │                        │                │                        │\n├───────────────────────────┼────────────────────────┼────────────────┼────────────────────────┤\n│ input_layer_7             │ (<span style=\"color: #00d7ff; text-decoration-color: #00d7ff\">None</span>, <span style=\"color: #00af00; text-decoration-color: #00af00\">512</span>)            │              <span style=\"color: #00af00; text-decoration-color: #00af00\">0</span> │ -                      │\n│ (<span style=\"color: #0087ff; text-decoration-color: #0087ff\">InputLayer</span>)              │                        │                │                        │\n├───────────────────────────┼────────────────────────┼────────────────┼────────────────────────┤\n│ base_model (<span style=\"color: #0087ff; text-decoration-color: #0087ff\">Functional</span>)   │ (<span style=\"color: #00d7ff; text-decoration-color: #00d7ff\">None</span>, <span style=\"color: #00af00; text-decoration-color: #00af00\">128</span>)            │        <span style=\"color: #00af00; text-decoration-color: #00af00\">165,248</span> │ input_layer_5[<span style=\"color: #00af00; text-decoration-color: #00af00\">0</span>][<span style=\"color: #00af00; text-decoration-color: #00af00\">0</span>],   │\n│                           │                        │                │ input_layer_6[<span style=\"color: #00af00; text-decoration-color: #00af00\">0</span>][<span style=\"color: #00af00; text-decoration-color: #00af00\">0</span>],   │\n│                           │                        │                │ input_layer_7[<span style=\"color: #00af00; text-decoration-color: #00af00\">0</span>][<span style=\"color: #00af00; text-decoration-color: #00af00\">0</span>]    │\n├───────────────────────────┼────────────────────────┼────────────────┼────────────────────────┤\n│ triplet_loss_block        │ ()                     │              <span style=\"color: #00af00; text-decoration-color: #00af00\">0</span> │ base_model[<span style=\"color: #00af00; text-decoration-color: #00af00\">0</span>][<span style=\"color: #00af00; text-decoration-color: #00af00\">0</span>],      │\n│ (<span style=\"color: #0087ff; text-decoration-color: #0087ff\">TripletLossBlock</span>)        │                        │                │ base_model[<span style=\"color: #00af00; text-decoration-color: #00af00\">1</span>][<span style=\"color: #00af00; text-decoration-color: #00af00\">0</span>],      │\n│                           │                        │                │ base_model[<span style=\"color: #00af00; text-decoration-color: #00af00\">2</span>][<span style=\"color: #00af00; text-decoration-color: #00af00\">0</span>]       │\n└───────────────────────────┴────────────────────────┴────────────────┴────────────────────────┘\n</pre>\n"
     },
     "metadata": {}
    },
    {
     "output_type": "display_data",
     "data": {
      "text/plain": "\u001B[1m Total params: \u001B[0m\u001B[38;5;34m494,722\u001B[0m (1.89 MB)\n",
      "text/html": "<pre style=\"white-space:pre;overflow-x:auto;line-height:normal;font-family:Menlo,'DejaVu Sans Mono',consolas,'Courier New',monospace\"><span style=\"font-weight: bold\"> Total params: </span><span style=\"color: #00af00; text-decoration-color: #00af00\">494,722</span> (1.89 MB)\n</pre>\n"
     },
     "metadata": {}
    },
    {
     "output_type": "display_data",
     "data": {
      "text/plain": "\u001B[1m Trainable params: \u001B[0m\u001B[38;5;34m164,736\u001B[0m (643.50 KB)\n",
      "text/html": "<pre style=\"white-space:pre;overflow-x:auto;line-height:normal;font-family:Menlo,'DejaVu Sans Mono',consolas,'Courier New',monospace\"><span style=\"font-weight: bold\"> Trainable params: </span><span style=\"color: #00af00; text-decoration-color: #00af00\">164,736</span> (643.50 KB)\n</pre>\n"
     },
     "metadata": {}
    },
    {
     "output_type": "display_data",
     "data": {
      "text/plain": "\u001B[1m Non-trainable params: \u001B[0m\u001B[38;5;34m512\u001B[0m (2.00 KB)\n",
      "text/html": "<pre style=\"white-space:pre;overflow-x:auto;line-height:normal;font-family:Menlo,'DejaVu Sans Mono',consolas,'Courier New',monospace\"><span style=\"font-weight: bold\"> Non-trainable params: </span><span style=\"color: #00af00; text-decoration-color: #00af00\">512</span> (2.00 KB)\n</pre>\n"
     },
     "metadata": {}
    },
    {
     "output_type": "display_data",
     "data": {
      "text/plain": "\u001B[1m Optimizer params: \u001B[0m\u001B[38;5;34m329,474\u001B[0m (1.26 MB)\n",
      "text/html": "<pre style=\"white-space:pre;overflow-x:auto;line-height:normal;font-family:Menlo,'DejaVu Sans Mono',consolas,'Courier New',monospace\"><span style=\"font-weight: bold\"> Optimizer params: </span><span style=\"color: #00af00; text-decoration-color: #00af00\">329,474</span> (1.26 MB)\n</pre>\n"
     },
     "metadata": {}
    }
   ],
   "execution_count": 15
  },
  {
   "cell_type": "code",
   "source": [
    "base_snn_model = load_model(\n",
    "    'besta_snn_model.keras', \n",
    "    custom_objects={\n",
    "        'L2NormalizeLayer': L2NormalizeLayer,\n",
    "        'TripletLossBlock': TripletLossBlock\n",
    "})\n",
    "base_model = base_snn_model.get_layer('base_model')\n",
    "base_model.summary()"
   ],
   "metadata": {
    "trusted": true,
    "execution": {
     "iopub.status.busy": "2025-02-24T02:48:12.947444Z",
     "iopub.execute_input": "2025-02-24T02:48:12.947746Z",
     "iopub.status.idle": "2025-02-24T02:48:13.072251Z",
     "shell.execute_reply.started": "2025-02-24T02:48:12.947715Z",
     "shell.execute_reply": "2025-02-24T02:48:13.071574Z"
    }
   },
   "outputs": [
    {
     "output_type": "display_data",
     "data": {
      "text/plain": "\u001B[1mModel: \"base_model\"\u001B[0m\n",
      "text/html": "<pre style=\"white-space:pre;overflow-x:auto;line-height:normal;font-family:Menlo,'DejaVu Sans Mono',consolas,'Courier New',monospace\"><span style=\"font-weight: bold\">Model: \"base_model\"</span>\n</pre>\n"
     },
     "metadata": {}
    },
    {
     "output_type": "display_data",
     "data": {
      "text/plain": "┏━━━━━━━━━━━━━━━━━━━━━━━━━━━━━━━━━━━━━━┳━━━━━━━━━━━━━━━━━━━━━━━━━━━━━┳━━━━━━━━━━━━━━━━━┓\n┃\u001B[1m \u001B[0m\u001B[1mLayer (type)                        \u001B[0m\u001B[1m \u001B[0m┃\u001B[1m \u001B[0m\u001B[1mOutput Shape               \u001B[0m\u001B[1m \u001B[0m┃\u001B[1m \u001B[0m\u001B[1m        Param #\u001B[0m\u001B[1m \u001B[0m┃\n┡━━━━━━━━━━━━━━━━━━━━━━━━━━━━━━━━━━━━━━╇━━━━━━━━━━━━━━━━━━━━━━━━━━━━━╇━━━━━━━━━━━━━━━━━┩\n│ input_layer_4 (\u001B[38;5;33mInputLayer\u001B[0m)           │ (\u001B[38;5;45mNone\u001B[0m, \u001B[38;5;34m512\u001B[0m)                 │               \u001B[38;5;34m0\u001B[0m │\n├──────────────────────────────────────┼─────────────────────────────┼─────────────────┤\n│ dense_5 (\u001B[38;5;33mDense\u001B[0m)                      │ (\u001B[38;5;45mNone\u001B[0m, \u001B[38;5;34m256\u001B[0m)                 │         \u001B[38;5;34m131,328\u001B[0m │\n├──────────────────────────────────────┼─────────────────────────────┼─────────────────┤\n│ dropout_5 (\u001B[38;5;33mDropout\u001B[0m)                  │ (\u001B[38;5;45mNone\u001B[0m, \u001B[38;5;34m256\u001B[0m)                 │               \u001B[38;5;34m0\u001B[0m │\n├──────────────────────────────────────┼─────────────────────────────┼─────────────────┤\n│ batch_normalization_3                │ (\u001B[38;5;45mNone\u001B[0m, \u001B[38;5;34m256\u001B[0m)                 │           \u001B[38;5;34m1,024\u001B[0m │\n│ (\u001B[38;5;33mBatchNormalization\u001B[0m)                 │                             │                 │\n├──────────────────────────────────────┼─────────────────────────────┼─────────────────┤\n│ dense_layer (\u001B[38;5;33mDense\u001B[0m)                  │ (\u001B[38;5;45mNone\u001B[0m, \u001B[38;5;34m128\u001B[0m)                 │          \u001B[38;5;34m32,896\u001B[0m │\n├──────────────────────────────────────┼─────────────────────────────┼─────────────────┤\n│ norm_layer (\u001B[38;5;33mL2NormalizeLayer\u001B[0m)        │ (\u001B[38;5;45mNone\u001B[0m, \u001B[38;5;34m128\u001B[0m)                 │               \u001B[38;5;34m0\u001B[0m │\n└──────────────────────────────────────┴─────────────────────────────┴─────────────────┘\n",
      "text/html": "<pre style=\"white-space:pre;overflow-x:auto;line-height:normal;font-family:Menlo,'DejaVu Sans Mono',consolas,'Courier New',monospace\">┏━━━━━━━━━━━━━━━━━━━━━━━━━━━━━━━━━━━━━━┳━━━━━━━━━━━━━━━━━━━━━━━━━━━━━┳━━━━━━━━━━━━━━━━━┓\n┃<span style=\"font-weight: bold\"> Layer (type)                         </span>┃<span style=\"font-weight: bold\"> Output Shape                </span>┃<span style=\"font-weight: bold\">         Param # </span>┃\n┡━━━━━━━━━━━━━━━━━━━━━━━━━━━━━━━━━━━━━━╇━━━━━━━━━━━━━━━━━━━━━━━━━━━━━╇━━━━━━━━━━━━━━━━━┩\n│ input_layer_4 (<span style=\"color: #0087ff; text-decoration-color: #0087ff\">InputLayer</span>)           │ (<span style=\"color: #00d7ff; text-decoration-color: #00d7ff\">None</span>, <span style=\"color: #00af00; text-decoration-color: #00af00\">512</span>)                 │               <span style=\"color: #00af00; text-decoration-color: #00af00\">0</span> │\n├──────────────────────────────────────┼─────────────────────────────┼─────────────────┤\n│ dense_5 (<span style=\"color: #0087ff; text-decoration-color: #0087ff\">Dense</span>)                      │ (<span style=\"color: #00d7ff; text-decoration-color: #00d7ff\">None</span>, <span style=\"color: #00af00; text-decoration-color: #00af00\">256</span>)                 │         <span style=\"color: #00af00; text-decoration-color: #00af00\">131,328</span> │\n├──────────────────────────────────────┼─────────────────────────────┼─────────────────┤\n│ dropout_5 (<span style=\"color: #0087ff; text-decoration-color: #0087ff\">Dropout</span>)                  │ (<span style=\"color: #00d7ff; text-decoration-color: #00d7ff\">None</span>, <span style=\"color: #00af00; text-decoration-color: #00af00\">256</span>)                 │               <span style=\"color: #00af00; text-decoration-color: #00af00\">0</span> │\n├──────────────────────────────────────┼─────────────────────────────┼─────────────────┤\n│ batch_normalization_3                │ (<span style=\"color: #00d7ff; text-decoration-color: #00d7ff\">None</span>, <span style=\"color: #00af00; text-decoration-color: #00af00\">256</span>)                 │           <span style=\"color: #00af00; text-decoration-color: #00af00\">1,024</span> │\n│ (<span style=\"color: #0087ff; text-decoration-color: #0087ff\">BatchNormalization</span>)                 │                             │                 │\n├──────────────────────────────────────┼─────────────────────────────┼─────────────────┤\n│ dense_layer (<span style=\"color: #0087ff; text-decoration-color: #0087ff\">Dense</span>)                  │ (<span style=\"color: #00d7ff; text-decoration-color: #00d7ff\">None</span>, <span style=\"color: #00af00; text-decoration-color: #00af00\">128</span>)                 │          <span style=\"color: #00af00; text-decoration-color: #00af00\">32,896</span> │\n├──────────────────────────────────────┼─────────────────────────────┼─────────────────┤\n│ norm_layer (<span style=\"color: #0087ff; text-decoration-color: #0087ff\">L2NormalizeLayer</span>)        │ (<span style=\"color: #00d7ff; text-decoration-color: #00d7ff\">None</span>, <span style=\"color: #00af00; text-decoration-color: #00af00\">128</span>)                 │               <span style=\"color: #00af00; text-decoration-color: #00af00\">0</span> │\n└──────────────────────────────────────┴─────────────────────────────┴─────────────────┘\n</pre>\n"
     },
     "metadata": {}
    },
    {
     "output_type": "display_data",
     "data": {
      "text/plain": "\u001B[1m Total params: \u001B[0m\u001B[38;5;34m165,248\u001B[0m (645.50 KB)\n",
      "text/html": "<pre style=\"white-space:pre;overflow-x:auto;line-height:normal;font-family:Menlo,'DejaVu Sans Mono',consolas,'Courier New',monospace\"><span style=\"font-weight: bold\"> Total params: </span><span style=\"color: #00af00; text-decoration-color: #00af00\">165,248</span> (645.50 KB)\n</pre>\n"
     },
     "metadata": {}
    },
    {
     "output_type": "display_data",
     "data": {
      "text/plain": "\u001B[1m Trainable params: \u001B[0m\u001B[38;5;34m164,736\u001B[0m (643.50 KB)\n",
      "text/html": "<pre style=\"white-space:pre;overflow-x:auto;line-height:normal;font-family:Menlo,'DejaVu Sans Mono',consolas,'Courier New',monospace\"><span style=\"font-weight: bold\"> Trainable params: </span><span style=\"color: #00af00; text-decoration-color: #00af00\">164,736</span> (643.50 KB)\n</pre>\n"
     },
     "metadata": {}
    },
    {
     "output_type": "display_data",
     "data": {
      "text/plain": "\u001B[1m Non-trainable params: \u001B[0m\u001B[38;5;34m512\u001B[0m (2.00 KB)\n",
      "text/html": "<pre style=\"white-space:pre;overflow-x:auto;line-height:normal;font-family:Menlo,'DejaVu Sans Mono',consolas,'Courier New',monospace\"><span style=\"font-weight: bold\"> Non-trainable params: </span><span style=\"color: #00af00; text-decoration-color: #00af00\">512</span> (2.00 KB)\n</pre>\n"
     },
     "metadata": {}
    }
   ],
   "execution_count": 16
  }
 ]
}
