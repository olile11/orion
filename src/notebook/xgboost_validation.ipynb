{
 "cells": [
  {
   "cell_type": "code",
   "id": "initial_id",
   "metadata": {
    "collapsed": true
   },
   "source": [
    "import numpy as np\n",
    "import pandas as pd\n",
    "import xgboost as xgb\n",
    "import tensorflow as tf\n",
    "import tensorflow_text\n",
    "import tensorflow_hub as hub\n",
    "from sklearn.preprocessing import LabelEncoder\n",
    "from sklearn.metrics import classification_report, roc_auc_score\n",
    "from sklearn.model_selection import cross_val_score, StratifiedKFold\n",
    "from sklearn.model_selection import StratifiedShuffleSplit\n",
    "%run make_datasets.ipynb"
   ],
   "outputs": [],
   "execution_count": null
  },
  {
   "metadata": {
    "ExecuteTime": {
     "end_time": "2025-03-01T19:07:30.875636Z",
     "start_time": "2025-03-01T19:07:27.636100Z"
    }
   },
   "cell_type": "code",
   "source": [
    "df = pd.read_csv('../data/df_fs.csv')\n",
    "df.dropna(inplace=True)\n",
    "df = df.reset_index(drop=True)\n",
    "print(df.shape)\n",
    "df.head()\n",
    "get_embed = hub.load(\"https://tfhub.dev/google/universal-sentence-encoder-multilingual/3\")"
   ],
   "id": "5577a5c10b72d604",
   "outputs": [
    {
     "name": "stdout",
     "output_type": "stream",
     "text": [
      "(4020, 5)\n"
     ]
    }
   ],
   "execution_count": 8
  },
  {
   "metadata": {
    "ExecuteTime": {
     "end_time": "2025-03-01T19:07:38.844664Z",
     "start_time": "2025-03-01T19:07:38.825091Z"
    }
   },
   "cell_type": "code",
   "source": "df.category.value_counts()",
   "id": "7b2fb4e7d27a6b23",
   "outputs": [
    {
     "data": {
      "text/plain": [
       "category\n",
       "tintas                   547\n",
       "cozinha                  435\n",
       "torneiras                422\n",
       "acess_sanitarios         373\n",
       "interruptores_tomadas    366\n",
       "ferragens                341\n",
       "fechaduras               334\n",
       "complementos             326\n",
       "acess_ferramentas        246\n",
       "conexoes                 215\n",
       "pisos                    211\n",
       "porcelanatos             204\n",
       "Name: count, dtype: int64"
      ]
     },
     "execution_count": 9,
     "metadata": {},
     "output_type": "execute_result"
    }
   ],
   "execution_count": 9
  },
  {
   "metadata": {
    "ExecuteTime": {
     "end_time": "2025-03-01T19:07:59.308156Z",
     "start_time": "2025-03-01T19:07:59.291152Z"
    }
   },
   "cell_type": "code",
   "source": [
    "categories = df.category.value_counts()\n",
    "categories = categories[categories >= 200].index\n",
    "new_df = df[df.category.isin(categories)]\n",
    "new_df.reset_index(inplace=True)\n",
    "new_df.category.value_counts()"
   ],
   "id": "7ac81ecf52f759e8",
   "outputs": [
    {
     "data": {
      "text/plain": [
       "category\n",
       "tintas                   547\n",
       "cozinha                  435\n",
       "torneiras                422\n",
       "acess_sanitarios         373\n",
       "interruptores_tomadas    366\n",
       "ferragens                341\n",
       "fechaduras               334\n",
       "complementos             326\n",
       "acess_ferramentas        246\n",
       "conexoes                 215\n",
       "pisos                    211\n",
       "porcelanatos             204\n",
       "Name: count, dtype: int64"
      ]
     },
     "execution_count": 11,
     "metadata": {},
     "output_type": "execute_result"
    }
   ],
   "execution_count": 11
  },
  {
   "metadata": {
    "ExecuteTime": {
     "end_time": "2025-03-01T19:08:05.708883Z",
     "start_time": "2025-03-01T19:08:04.004271Z"
    }
   },
   "cell_type": "code",
   "source": [
    "train, test = split_train_test(new_df)\n",
    "embed_dim = get_embed(train.loc[:1, 'name'].values.tolist()).shape[1]\n",
    "print(f\"train: {train.shape}, test: {test.shape},  embe: {embed_dim}\")"
   ],
   "id": "a73f9ffc6e77bc37",
   "outputs": [
    {
     "name": "stdout",
     "output_type": "stream",
     "text": [
      "train: (2814, 6), test: (1206, 6),  embe: 512\n"
     ]
    }
   ],
   "execution_count": 12
  },
  {
   "metadata": {
    "ExecuteTime": {
     "end_time": "2025-03-01T19:09:54.488892Z",
     "start_time": "2025-03-01T19:09:50.805118Z"
    }
   },
   "cell_type": "code",
   "source": [
    "def get_use_embeddings(texts):\n",
    "    return get_embed(texts).numpy()\n",
    "\n",
    "label_encoder = LabelEncoder()\n",
    "y_train = label_encoder.fit_transform(train['target'].values)\n",
    "y_test = label_encoder.transform(test['target'].values)\n",
    "\n",
    "X_train = get_use_embeddings(train['name'].tolist())\n",
    "X_test = get_use_embeddings(test['name'].tolist())"
   ],
   "id": "4dfd13eefd647fa8",
   "outputs": [],
   "execution_count": 15
  },
  {
   "metadata": {
    "ExecuteTime": {
     "end_time": "2025-03-01T19:18:20.854705Z",
     "start_time": "2025-03-01T19:18:20.845855Z"
    }
   },
   "cell_type": "code",
   "source": [
    "def get_weights(y_train):\n",
    "    n_class = np.bincount(y_train)\n",
    "    n_samples = len(y_train)\n",
    "    class_weights = n_samples / (len(n_class) * n_class)\n",
    "    weights = np.array([class_weights[label] for label in y_train])\n",
    "    return weights"
   ],
   "id": "8fd9126cbb722dcf",
   "outputs": [],
   "execution_count": 16
  },
  {
   "metadata": {
    "ExecuteTime": {
     "end_time": "2025-03-01T19:37:42.143833Z",
     "start_time": "2025-03-01T19:18:32.227842Z"
    }
   },
   "cell_type": "code",
   "source": [
    "weights = get_weights(y_train)\n",
    "\n",
    "xgb_model = xgb.XGBClassifier(\n",
    "    objective='multi:softprob',\n",
    "    num_class=len(np.unique(y_train)),\n",
    "    max_depth=6,\n",
    "    learning_rate=0.1,\n",
    "    n_estimators=100,\n",
    "    eval_metric='mlogloss',\n",
    "    random_state=42\n",
    ")\n",
    "\n",
    "cv = StratifiedKFold(n_splits=5, shuffle=True, random_state=42)\n",
    "scoring = ['accuracy', 'precision_macro', 'recall_macro', 'f1_macro']\n",
    "cv_results = {\n",
    "    metric: cross_val_score(\n",
    "        xgb_model, X_train, y_train,\n",
    "        cv=cv, scoring=metric,\n",
    "        params={'sample_weight': weights})\n",
    "              for metric in scoring\n",
    "}\n",
    "\n",
    "for metric, scores in cv_results.items():\n",
    "    print(f\"{metric.capitalize()}: {scores.mean():.2f} ± {scores.std():.2f}\")\n",
    "\n",
    "xgb_model.fit(X_train, y_train)\n",
    "y_pred = xgb_model.predict(X_test)\n",
    "print(classification_report(y_test, y_pred))"
   ],
   "id": "7fc9d85549ea9ab9",
   "outputs": [
    {
     "name": "stdout",
     "output_type": "stream",
     "text": [
      "Accuracy: 0.92 ± 0.01\n",
      "Precision_macro: 0.92 ± 0.01\n",
      "Recall_macro: 0.92 ± 0.01\n",
      "F1_macro: 0.92 ± 0.01\n",
      "              precision    recall  f1-score   support\n",
      "\n",
      "           0       0.78      0.78      0.78        74\n",
      "           1       0.87      0.83      0.85       112\n",
      "           2       0.87      0.88      0.87        98\n",
      "           3       1.00      0.98      0.99        64\n",
      "           4       0.88      0.92      0.90       131\n",
      "           5       0.97      0.99      0.98       100\n",
      "           6       0.94      0.92      0.93       102\n",
      "           7       0.95      0.98      0.96       110\n",
      "           8       1.00      0.97      0.98        63\n",
      "           9       0.95      0.93      0.94        61\n",
      "          10       0.99      0.96      0.97       164\n",
      "          11       0.93      0.96      0.95       127\n",
      "\n",
      "    accuracy                           0.93      1206\n",
      "   macro avg       0.93      0.93      0.93      1206\n",
      "weighted avg       0.93      0.93      0.93      1206\n",
      "\n"
     ]
    }
   ],
   "execution_count": 17
  },
  {
   "metadata": {
    "ExecuteTime": {
     "end_time": "2025-03-01T19:39:50.147629Z",
     "start_time": "2025-03-01T19:39:50.085087Z"
    }
   },
   "cell_type": "code",
   "source": [
    "y_pred_prob = xgb_model.predict_proba(X_test)\n",
    "roc_auc = roc_auc_score(y_test, y_pred_prob, multi_class='ovr')\n",
    "print(f\"ROC-AUC Score: {roc_auc:.4f}\")"
   ],
   "id": "e9bc30f3177b7e4d",
   "outputs": [
    {
     "name": "stdout",
     "output_type": "stream",
     "text": [
      "ROC-AUC Score: 0.9971\n"
     ]
    }
   ],
   "execution_count": 19
  }
 ],
 "metadata": {
  "kernelspec": {
   "display_name": "Python 3",
   "language": "python",
   "name": "python3"
  },
  "language_info": {
   "codemirror_mode": {
    "name": "ipython",
    "version": 2
   },
   "file_extension": ".py",
   "mimetype": "text/x-python",
   "name": "python",
   "nbconvert_exporter": "python",
   "pygments_lexer": "ipython2",
   "version": "2.7.6"
  }
 },
 "nbformat": 4,
 "nbformat_minor": 5
}
