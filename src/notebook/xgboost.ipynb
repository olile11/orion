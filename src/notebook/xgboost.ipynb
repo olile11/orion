{
 "cells": [
  {
   "cell_type": "code",
   "id": "initial_id",
   "metadata": {
    "collapsed": true,
    "ExecuteTime": {
     "end_time": "2025-02-24T00:55:24.309942Z",
     "start_time": "2025-02-24T00:55:24.297799Z"
    }
   },
   "source": [
    "import numpy as np\n",
    "import pandas as pd\n",
    "import xgboost as xgb\n",
    "import tensorflow as tf\n",
    "import tensorflow_text\n",
    "import tensorflow_hub as hub\n",
    "from sklearn.preprocessing import LabelEncoder\n",
    "from sklearn.metrics import classification_report, roc_auc_score\n",
    "from sklearn.model_selection import cross_val_score, StratifiedKFold\n",
    "from sklearn.model_selection import StratifiedShuffleSplit\n",
    "%run make_datasets.ipynb"
   ],
   "outputs": [],
   "execution_count": 124
  },
  {
   "metadata": {
    "ExecuteTime": {
     "end_time": "2025-02-23T23:44:59.463904Z",
     "start_time": "2025-02-23T23:44:57.731556Z"
    }
   },
   "cell_type": "code",
   "source": [
    "df = pd.read_csv('../data/df.csv')\n",
    "df.dropna(inplace=True)\n",
    "df = df.reset_index(drop=True)\n",
    "print(df.shape)\n",
    "df.head()\n",
    "get_embed = hub.load(\"https://tfhub.dev/google/universal-sentence-encoder-multilingual/3\")"
   ],
   "id": "5577a5c10b72d604",
   "outputs": [
    {
     "name": "stdout",
     "output_type": "stream",
     "text": [
      "(6867, 5)\n"
     ]
    }
   ],
   "execution_count": 105
  },
  {
   "metadata": {
    "ExecuteTime": {
     "end_time": "2025-02-23T23:43:05.605605Z",
     "start_time": "2025-02-23T23:43:05.596833Z"
    }
   },
   "cell_type": "code",
   "source": "df.category.value_counts()",
   "id": "7b2fb4e7d27a6b23",
   "outputs": [
    {
     "data": {
      "text/plain": [
       "category\n",
       "tintas                         547\n",
       "cozinha                        435\n",
       "torneiras                      422\n",
       "acess_sanitarios               373\n",
       "interruptores_tomadas          366\n",
       "ferragens                      341\n",
       "fechaduras                     334\n",
       "complementos                   326\n",
       "acess_ferramentas              246\n",
       "conexoes                       215\n",
       "pisos                          211\n",
       "porcelanatos                   204\n",
       "limpeza                        196\n",
       "ferramentas_manuais            195\n",
       "acess_conexoes_eletricas       183\n",
       "registros                      173\n",
       "moveis                         162\n",
       "luminarias_refletores          152\n",
       "acess_pintura                  150\n",
       "argamassas_rejuntes            135\n",
       "pinceis                        135\n",
       "discos_rebolos                 127\n",
       "revestimentos                  125\n",
       "epi                            124\n",
       "banho                          123\n",
       "chuveiros                      118\n",
       "lampadas                       116\n",
       "cubas_pias_balcoes             116\n",
       "acess_jardinagem               106\n",
       "cama                           104\n",
       "prateleiras                    103\n",
       "acess_utensilios_lavanderia    103\n",
       "acess_hidraulico               101\n",
       "Name: count, dtype: int64"
      ]
     },
     "execution_count": 99,
     "metadata": {},
     "output_type": "execute_result"
    }
   ],
   "execution_count": 99
  },
  {
   "metadata": {
    "ExecuteTime": {
     "end_time": "2025-02-23T23:44:13.078650Z",
     "start_time": "2025-02-23T23:44:13.068630Z"
    }
   },
   "cell_type": "code",
   "source": [
    "categories = df.category.value_counts()\n",
    "categories = categories[categories >= 200].index\n",
    "new_df = df[df.category.isin(categories)]\n",
    "new_df.reset_index(inplace=True)\n",
    "new_df.category.value_counts()"
   ],
   "id": "7ac81ecf52f759e8",
   "outputs": [
    {
     "data": {
      "text/plain": [
       "category\n",
       "tintas                   547\n",
       "cozinha                  435\n",
       "torneiras                422\n",
       "acess_sanitarios         373\n",
       "interruptores_tomadas    366\n",
       "ferragens                341\n",
       "fechaduras               334\n",
       "complementos             326\n",
       "acess_ferramentas        246\n",
       "conexoes                 215\n",
       "pisos                    211\n",
       "porcelanatos             204\n",
       "Name: count, dtype: int64"
      ]
     },
     "execution_count": 103,
     "metadata": {},
     "output_type": "execute_result"
    }
   ],
   "execution_count": 103
  },
  {
   "metadata": {
    "ExecuteTime": {
     "end_time": "2025-02-23T23:54:07.962842Z",
     "start_time": "2025-02-23T23:54:07.942279Z"
    }
   },
   "cell_type": "code",
   "source": [
    "train, test = split_train_test(new_df)\n",
    "embed_dim = get_embed(train.loc[:1, 'name'].values.tolist()).shape[1]\n",
    "print(f\"train: {train.shape}, test: {test.shape},  embe: {embed_dim}\")"
   ],
   "id": "a73f9ffc6e77bc37",
   "outputs": [
    {
     "name": "stdout",
     "output_type": "stream",
     "text": [
      "train: (2814, 6), test: (1206, 6),  embe: 512\n"
     ]
    }
   ],
   "execution_count": 110
  },
  {
   "metadata": {
    "ExecuteTime": {
     "end_time": "2025-02-24T00:21:10.805448Z",
     "start_time": "2025-02-24T00:21:09.110513Z"
    }
   },
   "cell_type": "code",
   "source": [
    "def get_use_embeddings(texts):\n",
    "    return get_embed(texts).numpy()\n",
    "label_encoder = LabelEncoder()\n",
    "X_train = get_use_embeddings(train['name'].tolist())\n",
    "y_train = label_encoder.fit_transform(train['target'].values)\n",
    "X_test = get_use_embeddings(test['name'].tolist())\n",
    "y_test = label_encoder.fit_transform(test['target'].values)"
   ],
   "id": "4dfd13eefd647fa8",
   "outputs": [],
   "execution_count": 121
  },
  {
   "metadata": {},
   "cell_type": "code",
   "outputs": [],
   "execution_count": null,
   "source": [
    "def get_weights(y_train):\n",
    "    n_class = np.bincount(y_train)\n",
    "    n_samples = len(y_train)\n",
    "    class_weights = n_samples / (len(n_class) * n_class)\n",
    "    weights = np.array([class_weights[label] for label in y_train])\n",
    "    return weights"
   ],
   "id": "8fd9126cbb722dcf"
  },
  {
   "metadata": {
    "ExecuteTime": {
     "end_time": "2025-02-24T00:51:56.046603Z",
     "start_time": "2025-02-24T00:21:40.441989Z"
    }
   },
   "cell_type": "code",
   "source": [
    "weights = get_weights(y_train)\n",
    "\n",
    "xgb_model = xgb.XGBClassifier(\n",
    "    objective='multi:softprob',\n",
    "    num_class=len(np.unique(y_train)),\n",
    "    max_depth=6,\n",
    "    learning_rate=0.1,\n",
    "    n_estimators=100,\n",
    "    eval_metric='mlogloss',\n",
    "    random_state=42\n",
    ")\n",
    "\n",
    "cv = StratifiedKFold(n_splits=5, shuffle=True, random_state=42)\n",
    "scoring = ['accuracy', 'precision_macro', 'recall_macro', 'f1_macro']\n",
    "cv_results = {metric: cross_val_score(xgb_model, X_train, y_train, cv=cv, scoring=metric,\n",
    "                                      params={'sample_weight': weights})\n",
    "              for metric in scoring}\n",
    "\n",
    "for metric, scores in cv_results.items():\n",
    "    print(f\"{metric.capitalize()}: {scores.mean():.2f} ± {scores.std():.2f}\")\n",
    "\n",
    "xgb_model.fit(X_train, y_train)\n",
    "y_pred = xgb_model.predict(X_test)\n",
    "print(classification_report(y_test, y_pred))"
   ],
   "id": "7fc9d85549ea9ab9",
   "outputs": [
    {
     "name": "stdout",
     "output_type": "stream",
     "text": [
      "Accuracy: 0.92 ± 0.01\n",
      "Precision_macro: 0.92 ± 0.01\n",
      "Recall_macro: 0.92 ± 0.01\n",
      "F1_macro: 0.92 ± 0.01\n",
      "              precision    recall  f1-score   support\n",
      "\n",
      "           0       0.78      0.78      0.78        74\n",
      "           1       0.87      0.83      0.85       112\n",
      "           2       0.87      0.88      0.87        98\n",
      "           3       1.00      0.98      0.99        64\n",
      "           4       0.88      0.92      0.90       131\n",
      "           5       0.97      0.99      0.98       100\n",
      "           6       0.94      0.92      0.93       102\n",
      "           7       0.95      0.98      0.96       110\n",
      "           8       1.00      0.97      0.98        63\n",
      "           9       0.95      0.93      0.94        61\n",
      "          10       0.99      0.96      0.97       164\n",
      "          11       0.93      0.96      0.95       127\n",
      "\n",
      "    accuracy                           0.93      1206\n",
      "   macro avg       0.93      0.93      0.93      1206\n",
      "weighted avg       0.93      0.93      0.93      1206\n",
      "\n"
     ]
    }
   ],
   "execution_count": 123
  },
  {
   "metadata": {
    "ExecuteTime": {
     "end_time": "2025-02-24T01:00:30.273168Z",
     "start_time": "2025-02-24T01:00:30.231965Z"
    }
   },
   "cell_type": "code",
   "source": [
    "y_pred_prob = xgb_model.predict_proba(X_test)\n",
    "roc_auc = roc_auc_score(y_test, y_pred_prob, multi_class='ovr')\n",
    "print(f\"ROC-AUC Score: {roc_auc:.4f}\")"
   ],
   "id": "e9bc30f3177b7e4d",
   "outputs": [
    {
     "name": "stdout",
     "output_type": "stream",
     "text": [
      "ROC-AUC Score: 0.9971\n"
     ]
    }
   ],
   "execution_count": 126
  }
 ],
 "metadata": {
  "kernelspec": {
   "display_name": "Python 3",
   "language": "python",
   "name": "python3"
  },
  "language_info": {
   "codemirror_mode": {
    "name": "ipython",
    "version": 2
   },
   "file_extension": ".py",
   "mimetype": "text/x-python",
   "name": "python",
   "nbconvert_exporter": "python",
   "pygments_lexer": "ipython2",
   "version": "2.7.6"
  }
 },
 "nbformat": 4,
 "nbformat_minor": 5
}
