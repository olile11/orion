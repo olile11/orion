{
 "cells": [
  {
   "cell_type": "code",
   "id": "initial_id",
   "metadata": {
    "collapsed": true,
    "ExecuteTime": {
     "end_time": "2025-02-24T01:06:56.778673Z",
     "start_time": "2025-02-24T01:06:56.775930Z"
    }
   },
   "source": [
    "import pandas as pd\n",
    "import numpy as np\n",
    "import unicodedata, re\n",
    "from sklearn.preprocessing import LabelEncoder"
   ],
   "outputs": [],
   "execution_count": 61
  },
  {
   "metadata": {
    "ExecuteTime": {
     "end_time": "2025-02-24T01:06:56.791925Z",
     "start_time": "2025-02-24T01:06:56.788414Z"
    }
   },
   "cell_type": "code",
   "source": [
    "def load_data(name):\n",
    "    tmp = pd.read_csv(f\"../data/{name}\")\n",
    "    tmp.rename(columns={'Name': 'name',\n",
    "                        'Price': 'price',\n",
    "                        'Brand': 'brand',\n",
    "                        'Category': 'category'}, inplace=True)\n",
    "    tmp = tmp[['name', 'price', 'category', 'brand']]\n",
    "    tmp.dropna(inplace=True)\n",
    "\n",
    "    return tmp"
   ],
   "id": "35bc3d3d1f04798c",
   "outputs": [],
   "execution_count": 62
  },
  {
   "metadata": {
    "ExecuteTime": {
     "end_time": "2025-02-24T01:06:57.097269Z",
     "start_time": "2025-02-24T01:06:56.835403Z"
    }
   },
   "cell_type": "code",
   "source": [
    "files = [\"df_nondim.csv\", \"dts.csv\", \"tupan_0x0.csv\",\n",
    "         \"tupan_0x1.csv\", \"tupan_0x2.csv\", \"tupan_0x3.csv\"]\n",
    "dt = pd.DataFrame(columns=['name', 'price', 'category', 'brand'])\n",
    "for file in files:\n",
    "    aux = load_data(file)\n",
    "    dt = pd.concat([dt.astype(aux.dtypes), aux.astype(dt.dtypes)],\n",
    "                   ignore_index=True)\n",
    "dt.drop_duplicates(subset=[\"name\"], inplace=True)\n",
    "raw_df = dt.copy(deep=True)\n",
    "print(f\"shape: {dt.shape}\")"
   ],
   "id": "fed2a7c6f5d806b1",
   "outputs": [
    {
     "name": "stdout",
     "output_type": "stream",
     "text": [
      "shape: (13060, 4)\n"
     ]
    }
   ],
   "execution_count": 63
  },
  {
   "metadata": {
    "ExecuteTime": {
     "end_time": "2025-02-24T01:06:57.202965Z",
     "start_time": "2025-02-24T01:06:57.118928Z"
    }
   },
   "cell_type": "code",
   "source": [
    "stopwords = [\"m\", \"mm\", \"mmx\", \"xmm\", \"mxm\", \"xcm\", \"x\", \"cm\", \"l\", \"ml\", \"x\", \"xm\", \"kg\"]\n",
    "stopword_regex = [r'\\b' + re.escape(word) + r'\\b' for word in stopwords]\n",
    "def normalize_text(text):\n",
    "    return unicodedata.normalize('NFD', str(text))\n",
    "def filter_unicode_chars(text):\n",
    "    return ''.join(char for char in text if not unicodedata.combining(char))\n",
    "\n",
    "def remove_stopwords(text):\n",
    "    for regex in stopword_regex:\n",
    "        text = re.sub(regex, '', text, flags=re.IGNORECASE)\n",
    "    return text\n",
    "\n",
    "def clean_name(row):\n",
    "    name = normalize_text(row).lower()\n",
    "    name = re.sub(r'\\s*/?\\s*ref(?:\\.|\\s*:\\s*)(\\s*\\w+)?', '', name, flags=re.IGNORECASE)\n",
    "    name = re.sub(r'[0-9]', '', name)\n",
    "    name = re.sub(r'[><\\\\/.,:)(°-]', '', name)\n",
    "    name = re.sub(r'[+/%-]', ' ', name)\n",
    "    name = remove_stopwords(name)\n",
    "    name = filter_unicode_chars(name)\n",
    "    name = \" \".join(name.split())\n",
    "    return name\n",
    "\n",
    "def clean_category(row):\n",
    "    category = normalize_text(row).lower()\n",
    "    category = re.sub(r'[0-9]', '', category)\n",
    "    category = filter_unicode_chars(category)\n",
    "    words = category.split()\n",
    "    unique_words = list(dict.fromkeys(words))\n",
    "    cleaned_category = \" \".join(unique_words)\n",
    "\n",
    "    return cleaned_category\n",
    "\n",
    "df = dt.copy()\n",
    "df[\"category\"] = df[\"category\"].apply(clean_category)\n",
    "df.head(5)"
   ],
   "id": "c2277d66ec7ae1c4",
   "outputs": [
    {
     "data": {
      "text/plain": [
       "                                                name price  \\\n",
       "0  Telha Ecológica Clássica Fit 200x75cm Vermelho...  85.9   \n",
       "1  Pneu 325 Aro 8 com 2 Lonas Leve COLSON / REF. ...  32.9   \n",
       "2  Caixa para Massa de Plástico 20 Litros Reforça...  24.9   \n",
       "3  Esquadro em Aço 14 Polegadas x35,5cm com Cabo ...  18.9   \n",
       "4  Esquadro em Aço 12 Polegadas x30,4cm com Cabo ...  17.9   \n",
       "\n",
       "                                    category     brand  \n",
       "0                  telhas > de fibra vegetal  ONDULINE  \n",
       "1    maquinas para construcao > carro de mao    COLSON  \n",
       "2  acessorios para construcao > de uso geral  DIMAX BR  \n",
       "3  acessorios para construcao > de uso geral  DIMAX BR  \n",
       "4  acessorios para construcao > de uso geral  DIMAX BR  "
      ],
      "text/html": [
       "<div>\n",
       "<style scoped>\n",
       "    .dataframe tbody tr th:only-of-type {\n",
       "        vertical-align: middle;\n",
       "    }\n",
       "\n",
       "    .dataframe tbody tr th {\n",
       "        vertical-align: top;\n",
       "    }\n",
       "\n",
       "    .dataframe thead th {\n",
       "        text-align: right;\n",
       "    }\n",
       "</style>\n",
       "<table border=\"1\" class=\"dataframe\">\n",
       "  <thead>\n",
       "    <tr style=\"text-align: right;\">\n",
       "      <th></th>\n",
       "      <th>name</th>\n",
       "      <th>price</th>\n",
       "      <th>category</th>\n",
       "      <th>brand</th>\n",
       "    </tr>\n",
       "  </thead>\n",
       "  <tbody>\n",
       "    <tr>\n",
       "      <th>0</th>\n",
       "      <td>Telha Ecológica Clássica Fit 200x75cm Vermelho...</td>\n",
       "      <td>85.9</td>\n",
       "      <td>telhas &gt; de fibra vegetal</td>\n",
       "      <td>ONDULINE</td>\n",
       "    </tr>\n",
       "    <tr>\n",
       "      <th>1</th>\n",
       "      <td>Pneu 325 Aro 8 com 2 Lonas Leve COLSON / REF. ...</td>\n",
       "      <td>32.9</td>\n",
       "      <td>maquinas para construcao &gt; carro de mao</td>\n",
       "      <td>COLSON</td>\n",
       "    </tr>\n",
       "    <tr>\n",
       "      <th>2</th>\n",
       "      <td>Caixa para Massa de Plástico 20 Litros Reforça...</td>\n",
       "      <td>24.9</td>\n",
       "      <td>acessorios para construcao &gt; de uso geral</td>\n",
       "      <td>DIMAX BR</td>\n",
       "    </tr>\n",
       "    <tr>\n",
       "      <th>3</th>\n",
       "      <td>Esquadro em Aço 14 Polegadas x35,5cm com Cabo ...</td>\n",
       "      <td>18.9</td>\n",
       "      <td>acessorios para construcao &gt; de uso geral</td>\n",
       "      <td>DIMAX BR</td>\n",
       "    </tr>\n",
       "    <tr>\n",
       "      <th>4</th>\n",
       "      <td>Esquadro em Aço 12 Polegadas x30,4cm com Cabo ...</td>\n",
       "      <td>17.9</td>\n",
       "      <td>acessorios para construcao &gt; de uso geral</td>\n",
       "      <td>DIMAX BR</td>\n",
       "    </tr>\n",
       "  </tbody>\n",
       "</table>\n",
       "</div>"
      ]
     },
     "execution_count": 64,
     "metadata": {},
     "output_type": "execute_result"
    }
   ],
   "execution_count": 64
  },
  {
   "metadata": {
    "ExecuteTime": {
     "end_time": "2025-02-24T01:06:57.247943Z",
     "start_time": "2025-02-24T01:06:57.243608Z"
    }
   },
   "cell_type": "code",
   "source": [
    "values_byprefix = {\"acabamentos\":\"acabamentos\",  \"acessorios agricolas\":\"acess_agricolas\", \"acessorios automotivos\":\"acess_automotivos\",\n",
    "              \"acessorios de iluminacao de uso geral\":\"acess_iluminacao\",\n",
    "              (\"acessorios de jardinagem\", \"jardim\", \"maquinas e ferramentas de jardinagem\"):\"acess_jardinagem\",\n",
    "              (\"acessorios de tecnologia\",\"seguranca\"):\"acess_tecnologia\",\n",
    "              (\"acessorios e conexoes eletricas\", \"fitas e mangueiras de led\", \"kits trilho\"):\"acess_conexoes_eletricas\",\n",
    "              \"acessorios e utensilios de cozinha\":\"acess_utensilios_cozinha\", \"acessorios e utensilios de lavanderia\":\"acess_utensilios_lavanderia\",\n",
    "              (\"acessorios para construcao\", \"ferramentas para construcao\", \"maquinas para construcao\"):\"acess_construcao\",\n",
    "              \"acessorios para decoracao\":\"acess_decoracao\", \"acessorios para ferramentas\":\"acess_ferramentas\", \"acessorios para pintura\":\"acess_pintura\",\n",
    "              \"acessorios para pisos e revestimentos\":\"acess_pisos_revestimentos\", \"acessorios sanitarios\":\"acess_sanitarios\", \"aco\":\"aco\",\n",
    "              (\"adornos\", \"outros adornos\"):\"adornos\", \"arandelas\":\"arandelas\",\n",
    "              (\"argamassas e rejuntes\", \"massa\", \"materiais de campo\"):\"argamassas_rejuntes\",\n",
    "              \"assentos sanitarios\":\"assentos_sanitarios\", \"bacias e caixas\":\"bacias_caixas\", \"banho\":\"banho\", \"bombas e filtros\":\"bombas_filtros\",\n",
    "              \"brocas\":\"brocas\", \"cabos, fios e conectores\":\"cabos_fios_conectores\", \"caixas, quadros e disjuntores\":\"caixas_quadros_disjuntores\",\n",
    "              \"cama\":\"cama\", \"casa\":\"casa\", \"churrasco\":\"churrasco\", \"chuveiros\":\"chuveiros\", \"complementos\":\"complementos\", \"conexoes\":\"conexoes\",\n",
    "              \"cortinas e persianas\":\"cortinas_persianas\", \"cozinha\":\"cozinha\", \"cubas, pias e balcoes\":\"cubas_pias_balcoes\",\n",
    "              \"discos e rebolos\":\"discos_rebolos\", \"duchas higienicas\":\"duchas_higienicas\", \"eletroportateis\":\"eletroportateis\", \"epi\":\"epi\",\n",
    "              \"fechaduras\":\"fechaduras\",\n",
    "              (\"ferramentas a bateria\", \"ferramentas eletricas\"):\"ferramentas_eletricas\", \"ferramentas agricolas\":\"ferramentas agricolas\",\n",
    "              \"ferramentas manuais\":\"ferramentas_manuais\",\n",
    "              \"impermeabilizantes\":\"impermeabilizantes\", (\"interruptores\", \"tomadas\"):\"interruptores_tomadas\",\n",
    "              \"janelas\":\"janelas\", \"lampadas\":\"lampadas\", \"lavatorios\":\"lavatorios\", \"limpeza\":\"limpeza\", \"lonas\":\"lonas\",\n",
    "              (\"luminarias\", \"refletores\", \"spots\"):\"luminarias_refletores\",\n",
    "              \"moveis\":\"moveis\", \"paineis de led\":\"paineis_led\", \"pinceis\":\"pinceis\", \"pisos\":\"pisos\", \"porcelanatos\":\"porcelanatos\", \"portas\":\"portas\",\n",
    "              \"prateleiras\":\"prateleiras\", \"registros\":\"registros\", \"revestimentos\":\"revestimentos\", \"tintas\":\"tintas\", \"torneiras\":\"torneiras\",\n",
    "              (\"piscinas\",\"tratamento\"):\"piscinas_tratamento\", \"tubos\":\"tubos\", \"ferragens\":\"ferragens\"\n",
    "              }\n",
    "values_bysufix = {(\"grelhas\", \"calhas\"): \"acess_hidraulico\", \"acessorios hidraulicos de uso geral\": \"acess_hidraul_geral\"}"
   ],
   "id": "91c0bd9fb9fdfd5d",
   "outputs": [],
   "execution_count": 65
  },
  {
   "metadata": {
    "ExecuteTime": {
     "end_time": "2025-02-24T01:06:57.332233Z",
     "start_time": "2025-02-24T01:06:57.265488Z"
    }
   },
   "cell_type": "code",
   "source": [
    "def replace_by_prefix(row):\n",
    "    for key, value in values_byprefix.items():\n",
    "        if row.startswith(key):\n",
    "            return value\n",
    "    return row\n",
    "def replace_by_sufix(row):\n",
    "    for key, value in values_bysufix.items():\n",
    "        if row.endswith(key):\n",
    "            return value\n",
    "    return row\n",
    "\n",
    "df[\"category\"] = df.category.apply(replace_by_prefix)\n",
    "df[\"category\"] = df.category.apply(replace_by_sufix)\n",
    "df.shape"
   ],
   "id": "76cf889dffd75320",
   "outputs": [
    {
     "data": {
      "text/plain": [
       "(13060, 4)"
      ]
     },
     "execution_count": 66,
     "metadata": {},
     "output_type": "execute_result"
    }
   ],
   "execution_count": 66
  },
  {
   "metadata": {
    "ExecuteTime": {
     "end_time": "2025-02-24T01:06:57.505275Z",
     "start_time": "2025-02-24T01:06:57.496883Z"
    }
   },
   "cell_type": "code",
   "source": [
    "df = df[df[\"category\"].isin(values_byprefix.values()) | df[\"category\"].isin(values_bysufix.values())]\n",
    "df"
   ],
   "id": "846945a02ebe9ea9",
   "outputs": [
    {
     "data": {
      "text/plain": [
       "                                                    name  price  \\\n",
       "1      Pneu 325 Aro 8 com 2 Lonas Leve COLSON / REF. ...   32.9   \n",
       "2      Caixa para Massa de Plástico 20 Litros Reforça...   24.9   \n",
       "3      Esquadro em Aço 14 Polegadas x35,5cm com Cabo ...   18.9   \n",
       "4      Esquadro em Aço 12 Polegadas x30,4cm com Cabo ...   17.9   \n",
       "6      Cimento Forte Multiuso CPII 50kg CIMENTO FORTE...  34.89   \n",
       "...                                                  ...    ...   \n",
       "54310  Adaptador Soldável PVC 40x1.1/4 Curto - Ref.22...   4.49   \n",
       "54311  Adaptador Soldável Curto PVC 85X3mm - Ref. 220...   31.9   \n",
       "54312  Adaptador Soldável PVC 50x1.1/2 Curto - Ref.22...   4.19   \n",
       "54313  Adaptador Soldável PVC 20x1/2 Curto - Ref.2219...   0.99   \n",
       "54314  Adaptador Soldável PVC 25x3/4 Curto - Ref.2219...   0.85   \n",
       "\n",
       "                  category          brand  \n",
       "1         acess_construcao         COLSON  \n",
       "2         acess_construcao       DIMAX BR  \n",
       "3         acess_construcao       DIMAX BR  \n",
       "4         acess_construcao       DIMAX BR  \n",
       "6      argamassas_rejuntes  CIMENTO FORTE  \n",
       "...                    ...            ...  \n",
       "54310             conexoes          TIGRE  \n",
       "54311             conexoes          TIGRE  \n",
       "54312             conexoes          TIGRE  \n",
       "54313             conexoes          TIGRE  \n",
       "54314             conexoes          TIGRE  \n",
       "\n",
       "[12022 rows x 4 columns]"
      ],
      "text/html": [
       "<div>\n",
       "<style scoped>\n",
       "    .dataframe tbody tr th:only-of-type {\n",
       "        vertical-align: middle;\n",
       "    }\n",
       "\n",
       "    .dataframe tbody tr th {\n",
       "        vertical-align: top;\n",
       "    }\n",
       "\n",
       "    .dataframe thead th {\n",
       "        text-align: right;\n",
       "    }\n",
       "</style>\n",
       "<table border=\"1\" class=\"dataframe\">\n",
       "  <thead>\n",
       "    <tr style=\"text-align: right;\">\n",
       "      <th></th>\n",
       "      <th>name</th>\n",
       "      <th>price</th>\n",
       "      <th>category</th>\n",
       "      <th>brand</th>\n",
       "    </tr>\n",
       "  </thead>\n",
       "  <tbody>\n",
       "    <tr>\n",
       "      <th>1</th>\n",
       "      <td>Pneu 325 Aro 8 com 2 Lonas Leve COLSON / REF. ...</td>\n",
       "      <td>32.9</td>\n",
       "      <td>acess_construcao</td>\n",
       "      <td>COLSON</td>\n",
       "    </tr>\n",
       "    <tr>\n",
       "      <th>2</th>\n",
       "      <td>Caixa para Massa de Plástico 20 Litros Reforça...</td>\n",
       "      <td>24.9</td>\n",
       "      <td>acess_construcao</td>\n",
       "      <td>DIMAX BR</td>\n",
       "    </tr>\n",
       "    <tr>\n",
       "      <th>3</th>\n",
       "      <td>Esquadro em Aço 14 Polegadas x35,5cm com Cabo ...</td>\n",
       "      <td>18.9</td>\n",
       "      <td>acess_construcao</td>\n",
       "      <td>DIMAX BR</td>\n",
       "    </tr>\n",
       "    <tr>\n",
       "      <th>4</th>\n",
       "      <td>Esquadro em Aço 12 Polegadas x30,4cm com Cabo ...</td>\n",
       "      <td>17.9</td>\n",
       "      <td>acess_construcao</td>\n",
       "      <td>DIMAX BR</td>\n",
       "    </tr>\n",
       "    <tr>\n",
       "      <th>6</th>\n",
       "      <td>Cimento Forte Multiuso CPII 50kg CIMENTO FORTE...</td>\n",
       "      <td>34.89</td>\n",
       "      <td>argamassas_rejuntes</td>\n",
       "      <td>CIMENTO FORTE</td>\n",
       "    </tr>\n",
       "    <tr>\n",
       "      <th>...</th>\n",
       "      <td>...</td>\n",
       "      <td>...</td>\n",
       "      <td>...</td>\n",
       "      <td>...</td>\n",
       "    </tr>\n",
       "    <tr>\n",
       "      <th>54310</th>\n",
       "      <td>Adaptador Soldável PVC 40x1.1/4 Curto - Ref.22...</td>\n",
       "      <td>4.49</td>\n",
       "      <td>conexoes</td>\n",
       "      <td>TIGRE</td>\n",
       "    </tr>\n",
       "    <tr>\n",
       "      <th>54311</th>\n",
       "      <td>Adaptador Soldável Curto PVC 85X3mm - Ref. 220...</td>\n",
       "      <td>31.9</td>\n",
       "      <td>conexoes</td>\n",
       "      <td>TIGRE</td>\n",
       "    </tr>\n",
       "    <tr>\n",
       "      <th>54312</th>\n",
       "      <td>Adaptador Soldável PVC 50x1.1/2 Curto - Ref.22...</td>\n",
       "      <td>4.19</td>\n",
       "      <td>conexoes</td>\n",
       "      <td>TIGRE</td>\n",
       "    </tr>\n",
       "    <tr>\n",
       "      <th>54313</th>\n",
       "      <td>Adaptador Soldável PVC 20x1/2 Curto - Ref.2219...</td>\n",
       "      <td>0.99</td>\n",
       "      <td>conexoes</td>\n",
       "      <td>TIGRE</td>\n",
       "    </tr>\n",
       "    <tr>\n",
       "      <th>54314</th>\n",
       "      <td>Adaptador Soldável PVC 25x3/4 Curto - Ref.2219...</td>\n",
       "      <td>0.85</td>\n",
       "      <td>conexoes</td>\n",
       "      <td>TIGRE</td>\n",
       "    </tr>\n",
       "  </tbody>\n",
       "</table>\n",
       "<p>12022 rows × 4 columns</p>\n",
       "</div>"
      ]
     },
     "execution_count": 67,
     "metadata": {},
     "output_type": "execute_result"
    }
   ],
   "execution_count": 67
  },
  {
   "metadata": {
    "ExecuteTime": {
     "end_time": "2025-02-24T01:06:58.041540Z",
     "start_time": "2025-02-24T01:06:57.552824Z"
    }
   },
   "cell_type": "code",
   "source": [
    "df[\"name\"] = df[\"name\"].apply(clean_name)\n",
    "df.drop_duplicates(subset=[\"name\"], inplace=True)\n",
    "df"
   ],
   "id": "9597bbecb7e62af1",
   "outputs": [
    {
     "data": {
      "text/plain": [
       "                                                    name  price  \\\n",
       "1                         pneu aro com lonas leve colson   32.9   \n",
       "2      caixa para massa de plastico litros reforcada ...   24.9   \n",
       "3      esquadro em aco polegadas com cabo de plastico...   18.9   \n",
       "6              cimento forte multiuso cpii cimento forte  34.89   \n",
       "7         linha polietileno mmxm para pedreiro lisa nove    5.9   \n",
       "...                                                  ...    ...   \n",
       "54300  arco serra fixo em aco polegadas com cabo poli...   35.9   \n",
       "54301  arco de serra em aco polegadas fixo eco com ca...   25.9   \n",
       "54305  mini arco de serra polegadas com corpo injetad...   22.9   \n",
       "54306                 adaptador soldavel pvc curto tigre   2.29   \n",
       "54311                 adaptador soldavel curto pvc tigre   31.9   \n",
       "\n",
       "                  category          brand  \n",
       "1         acess_construcao         COLSON  \n",
       "2         acess_construcao       DIMAX BR  \n",
       "3         acess_construcao       DIMAX BR  \n",
       "6      argamassas_rejuntes  CIMENTO FORTE  \n",
       "7         acess_construcao         NOVE54  \n",
       "...                    ...            ...  \n",
       "54300  ferramentas_manuais     TRAMONTINA  \n",
       "54301  ferramentas_manuais          DIMAX  \n",
       "54305    acess_ferramentas     TRAMONTINA  \n",
       "54306             conexoes          TIGRE  \n",
       "54311             conexoes          TIGRE  \n",
       "\n",
       "[8527 rows x 4 columns]"
      ],
      "text/html": [
       "<div>\n",
       "<style scoped>\n",
       "    .dataframe tbody tr th:only-of-type {\n",
       "        vertical-align: middle;\n",
       "    }\n",
       "\n",
       "    .dataframe tbody tr th {\n",
       "        vertical-align: top;\n",
       "    }\n",
       "\n",
       "    .dataframe thead th {\n",
       "        text-align: right;\n",
       "    }\n",
       "</style>\n",
       "<table border=\"1\" class=\"dataframe\">\n",
       "  <thead>\n",
       "    <tr style=\"text-align: right;\">\n",
       "      <th></th>\n",
       "      <th>name</th>\n",
       "      <th>price</th>\n",
       "      <th>category</th>\n",
       "      <th>brand</th>\n",
       "    </tr>\n",
       "  </thead>\n",
       "  <tbody>\n",
       "    <tr>\n",
       "      <th>1</th>\n",
       "      <td>pneu aro com lonas leve colson</td>\n",
       "      <td>32.9</td>\n",
       "      <td>acess_construcao</td>\n",
       "      <td>COLSON</td>\n",
       "    </tr>\n",
       "    <tr>\n",
       "      <th>2</th>\n",
       "      <td>caixa para massa de plastico litros reforcada ...</td>\n",
       "      <td>24.9</td>\n",
       "      <td>acess_construcao</td>\n",
       "      <td>DIMAX BR</td>\n",
       "    </tr>\n",
       "    <tr>\n",
       "      <th>3</th>\n",
       "      <td>esquadro em aco polegadas com cabo de plastico...</td>\n",
       "      <td>18.9</td>\n",
       "      <td>acess_construcao</td>\n",
       "      <td>DIMAX BR</td>\n",
       "    </tr>\n",
       "    <tr>\n",
       "      <th>6</th>\n",
       "      <td>cimento forte multiuso cpii cimento forte</td>\n",
       "      <td>34.89</td>\n",
       "      <td>argamassas_rejuntes</td>\n",
       "      <td>CIMENTO FORTE</td>\n",
       "    </tr>\n",
       "    <tr>\n",
       "      <th>7</th>\n",
       "      <td>linha polietileno mmxm para pedreiro lisa nove</td>\n",
       "      <td>5.9</td>\n",
       "      <td>acess_construcao</td>\n",
       "      <td>NOVE54</td>\n",
       "    </tr>\n",
       "    <tr>\n",
       "      <th>...</th>\n",
       "      <td>...</td>\n",
       "      <td>...</td>\n",
       "      <td>...</td>\n",
       "      <td>...</td>\n",
       "    </tr>\n",
       "    <tr>\n",
       "      <th>54300</th>\n",
       "      <td>arco serra fixo em aco polegadas com cabo poli...</td>\n",
       "      <td>35.9</td>\n",
       "      <td>ferramentas_manuais</td>\n",
       "      <td>TRAMONTINA</td>\n",
       "    </tr>\n",
       "    <tr>\n",
       "      <th>54301</th>\n",
       "      <td>arco de serra em aco polegadas fixo eco com ca...</td>\n",
       "      <td>25.9</td>\n",
       "      <td>ferramentas_manuais</td>\n",
       "      <td>DIMAX</td>\n",
       "    </tr>\n",
       "    <tr>\n",
       "      <th>54305</th>\n",
       "      <td>mini arco de serra polegadas com corpo injetad...</td>\n",
       "      <td>22.9</td>\n",
       "      <td>acess_ferramentas</td>\n",
       "      <td>TRAMONTINA</td>\n",
       "    </tr>\n",
       "    <tr>\n",
       "      <th>54306</th>\n",
       "      <td>adaptador soldavel pvc curto tigre</td>\n",
       "      <td>2.29</td>\n",
       "      <td>conexoes</td>\n",
       "      <td>TIGRE</td>\n",
       "    </tr>\n",
       "    <tr>\n",
       "      <th>54311</th>\n",
       "      <td>adaptador soldavel curto pvc tigre</td>\n",
       "      <td>31.9</td>\n",
       "      <td>conexoes</td>\n",
       "      <td>TIGRE</td>\n",
       "    </tr>\n",
       "  </tbody>\n",
       "</table>\n",
       "<p>8527 rows × 4 columns</p>\n",
       "</div>"
      ]
     },
     "execution_count": 68,
     "metadata": {},
     "output_type": "execute_result"
    }
   ],
   "execution_count": 68
  },
  {
   "metadata": {
    "ExecuteTime": {
     "end_time": "2025-02-24T02:09:32.718715Z",
     "start_time": "2025-02-24T02:09:32.708922Z"
    }
   },
   "cell_type": "code",
   "source": [
    "categories = df.category.value_counts()\n",
    "first_seg_cat = categories[categories >= 200].index\n",
    "second_seg_cat = categories[(categories < 200) & (categories > 70)].index\n",
    "df_fs = df[df.category.isin(first_seg_cat)]\n",
    "df_sn = df[df.category.isin(second_seg_cat)]"
   ],
   "id": "b071a107de0956cd",
   "outputs": [],
   "execution_count": 93
  },
  {
   "metadata": {
    "ExecuteTime": {
     "end_time": "2025-02-24T01:09:00.491628Z",
     "start_time": "2025-02-24T01:09:00.486227Z"
    }
   },
   "cell_type": "code",
   "source": "df_fs.category.value_counts()",
   "id": "2e3f314b7bcfadac",
   "outputs": [
    {
     "data": {
      "text/plain": [
       "category\n",
       "tintas                   547\n",
       "cozinha                  435\n",
       "torneiras                422\n",
       "acess_sanitarios         373\n",
       "interruptores_tomadas    366\n",
       "ferragens                341\n",
       "fechaduras               334\n",
       "complementos             326\n",
       "acess_ferramentas        246\n",
       "conexoes                 215\n",
       "pisos                    211\n",
       "porcelanatos             204\n",
       "Name: count, dtype: int64"
      ]
     },
     "execution_count": 79,
     "metadata": {},
     "output_type": "execute_result"
    }
   ],
   "execution_count": 79
  },
  {
   "metadata": {
    "ExecuteTime": {
     "end_time": "2025-02-24T01:06:58.253682Z",
     "start_time": "2025-02-24T01:06:58.249126Z"
    }
   },
   "cell_type": "code",
   "source": "df_sn.category.value_counts()",
   "id": "7b2fb4e7d27a6b23",
   "outputs": [
    {
     "data": {
      "text/plain": [
       "category\n",
       "casa                          98\n",
       "impermeabilizantes            89\n",
       "assentos_sanitarios           88\n",
       "ferramentas_eletricas         87\n",
       "acess_construcao              84\n",
       "caixas_quadros_disjuntores    80\n",
       "brocas                        78\n",
       "bacias_caixas                 71\n",
       "paineis_led                   71\n",
       "cabos_fios_conectores         68\n",
       "acabamentos                   66\n",
       "acess_decoracao               65\n",
       "portas                        65\n",
       "acess_pisos_revestimentos     60\n",
       "eletroportateis               59\n",
       "duchas_higienicas             51\n",
       "arandelas                     48\n",
       "lavatorios                    47\n",
       "acess_tecnologia              47\n",
       "cortinas_persianas            46\n",
       "acess_utensilios_cozinha      35\n",
       "tubos                         35\n",
       "janelas                       34\n",
       "ferramentas agricolas         32\n",
       "adornos                       30\n",
       "bombas_filtros                28\n",
       "piscinas_tratamento           24\n",
       "acess_agricolas               22\n",
       "churrasco                     20\n",
       "lonas                         13\n",
       "aco                           12\n",
       "acess_automotivos              6\n",
       "Name: count, dtype: int64"
      ]
     },
     "execution_count": 71,
     "metadata": {},
     "output_type": "execute_result"
    }
   ],
   "execution_count": 71
  },
  {
   "metadata": {
    "ExecuteTime": {
     "end_time": "2025-02-24T01:10:17.709666Z",
     "start_time": "2025-02-24T01:10:17.702622Z"
    }
   },
   "cell_type": "code",
   "source": [
    "lab = LabelEncoder()\n",
    "df_fs.loc[:, \"target\"] = lab.fit_transform(df_fs[\"category\"])\n",
    "df_sn.loc[:, \"target\"] = lab.fit_transform(df_sn[\"category\"])"
   ],
   "id": "3e7c81baafd261cf",
   "outputs": [],
   "execution_count": 81
  },
  {
   "metadata": {
    "ExecuteTime": {
     "end_time": "2025-02-24T01:12:51.539962Z",
     "start_time": "2025-02-24T01:12:51.413599Z"
    }
   },
   "cell_type": "code",
   "source": [
    "df_fs.to_csv(\"../data/df_fs.csv\", index=False)\n",
    "df.to_csv(\"../data/clean_df.csv\", index=False)\n",
    "dt.to_csv(\"../data/full_df.csv\", index=False)"
   ],
   "id": "eef681dd99b02ac3",
   "outputs": [],
   "execution_count": 84
  },
  {
   "metadata": {},
   "cell_type": "markdown",
   "source": [
    "##Melhores hiperparâmetros encontrados: AdamW 0.7850667834281921\n",
    " - dense1_units: 320\n",
    " - dense2_units: 96\n",
    " - dense3_units: 160\n",
    " - dense_layer_final: 64\n",
    " - dropout1: 0.4\n",
    " - dropout2: 0.4\n",
    " - dropout3: 0.4\n",
    " - l2_reg: 0.0027560779294081086\n",
    " - alpha: 0.2\n",
    " - learning_rate: 0.0006263130573774603\n",
    "\n",
    "## Melhores hiperparâmetros encontrados: Adam\n",
    "Epoch 20: val_loss improved from 0.75603 to 0.75577, saving model to best_bert_siamese_model.keras\n",
    "\n",
    "64/64 ━━━━━━━━━━━━━━━━━━━━ 3s 51ms/step - loss: 0.6773 - val_loss: 0.7558\n",
    " - dense1_units: 448\n",
    " - dense2_units: 128\n",
    " - dense3_units: 128\n",
    " - dense_layer_final: 128\n",
    " - dropout1: 0.30000000000000004\n",
    " - dropout2: 0.4\n",
    " - dropout3: 0.4\n",
    " - l2_reg: 0.001615253021487585\n",
    " - alpha: 0.2\n",
    " - learning_rate: 0.0036321404388540523\n",
    "#=====================================\n",
    "\n",
    "Best val_loss So Far: 1.1385364532470703\n",
    "Total elapsed time: 00h 56m 15s\n",
    "\n",
    "Search: Running Trial #33\n",
    "\n",
    "Value             |Best Value So Far |Hyperparameter\n",
    "256               |384               |dense1_units\n",
    "96                |160               |dense2_units\n",
    "0.4               |0.4               |dropout1\n",
    "0.0027186         |0.0015619         |l2_reg\n",
    "0.2               |0.2               |dropout2\n",
    "0.8               |0.2               |alpha\n",
    "0.0089625         |0.00060028        |learning_rate\n",
    "\n",
    "## Best val_loss So Far: 1.3455398082733154\n",
    "Melhores hiperparâmetros encontrados:\n",
    " - dense1_units: 320\n",
    " - dense2_units: 192\n",
    " - dropout1: 0.2\n",
    " - dropout2: 0.30000000000000004\n",
    " - l2_reg: 0.0011285276077827135\n",
    " - alpha: 0.2\n",
    " - learning_rate: 0.00213954964760784\n",
    "## Best val_loss So Far: 1.8878151178359985\n",
    "Total elapsed time: 00h 40m 59s\n",
    "Melhores hiperparâmetros encontrados:\n",
    " - dense1_units: 512\n",
    " - dense2_units: 96\n",
    " - dropout1: 0.4\n",
    " - dropout2: 0.30000000000000004\n",
    " - l2_reg: 0.002288147780992941\n",
    " - alpha: 0.2\n",
    " - learning_rate: 0.0009587343827472403"
   ],
   "id": "3ee6287c74c2296d"
  }
 ],
 "metadata": {
  "kernelspec": {
   "display_name": "Python 3",
   "language": "python",
   "name": "python3"
  },
  "language_info": {
   "codemirror_mode": {
    "name": "ipython",
    "version": 2
   },
   "file_extension": ".py",
   "mimetype": "text/x-python",
   "name": "python",
   "nbconvert_exporter": "python",
   "pygments_lexer": "ipython2",
   "version": "2.7.6"
  }
 },
 "nbformat": 4,
 "nbformat_minor": 5
}
