{
 "metadata": {
  "kernelspec": {
   "language": "python",
   "display_name": "Python 3",
   "name": "python3"
  },
  "language_info": {
   "name": "python",
   "version": "3.10.12",
   "mimetype": "text/x-python",
   "codemirror_mode": {
    "name": "ipython",
    "version": 3
   },
   "pygments_lexer": "ipython3",
   "nbconvert_exporter": "python",
   "file_extension": ".py"
  },
  "kaggle": {
   "accelerator": "gpu",
   "dataSources": [
    {
     "sourceId": 10826208,
     "sourceType": "datasetVersion",
     "datasetId": 6722562
    }
   ],
   "dockerImageVersionId": 30919,
   "isInternetEnabled": true,
   "language": "python",
   "sourceType": "notebook",
   "isGpuEnabled": true
  }
 },
 "nbformat_minor": 4,
 "nbformat": 4,
 "cells": [
  {
   "metadata": {},
   "cell_type": "code",
   "source": [
    "import os\n",
    "import numpy as np\n",
    "import pandas as pd\n",
    "import tensorflow as tf\n",
    "from sklearn.model_selection import StratifiedShuffleSplit"
   ],
   "outputs": [],
   "execution_count": null
  },
  {
   "metadata": {
    "ExecuteTime": {
     "end_time": "2025-02-23T23:53:22.923802Z",
     "start_time": "2025-02-23T23:53:22.907555Z"
    }
   },
   "cell_type": "code",
   "source": [
    "def split_train_test(df):\n",
    "    sss = StratifiedShuffleSplit(n_splits=1, test_size=0.3, random_state=42)\n",
    "    for train_valid_idx, test_idx in sss.split(df, df['target']):\n",
    "        train = df.loc[train_valid_idx].reset_index(drop=True)\n",
    "        test = df.loc[test_idx].reset_index(drop=True)\n",
    "\n",
    "    return train, test"
   ],
   "outputs": [],
   "execution_count": 18
  },
  {
   "metadata": {
    "ExecuteTime": {
     "end_time": "2025-02-23T00:47:58.008817Z",
     "start_time": "2025-02-23T00:47:58.002054Z"
    }
   },
   "cell_type": "code",
   "source": [
    "def split_data(df):\n",
    "    split = StratifiedShuffleSplit(n_splits=1, test_size=0.2, random_state=42)\n",
    "    for train_valid_idx, test_idx in split.split(df, df['target']):\n",
    "        train_valid = df.loc[train_valid_idx].reset_index(drop=True)\n",
    "        test = df.loc[test_idx].reset_index(drop=True)\n",
    "\n",
    "    split = StratifiedShuffleSplit(n_splits=1, test_size=0.25, random_state=42)\n",
    "    for train_idx, valid_idx in split.split(train_valid, train_valid['target']):\n",
    "        train = train_valid.loc[train_idx].reset_index(drop=True)\n",
    "        valid = train_valid.loc[valid_idx].reset_index(drop=True)\n",
    "\n",
    "    return train, valid, test"
   ],
   "outputs": [],
   "execution_count": 6
  },
  {
   "cell_type": "code",
   "source": [
    "def get_triplets(unique_labels, label_indices_map):\n",
    "    label_l, label_r = np.random.choice(unique_labels, 2, replace=False)\n",
    "    a, p = np.random.choice(label_indices_map[label_l], 2, replace=False)\n",
    "    n = np.random.choice(label_indices_map[label_r])\n",
    "    return a, p, n\n",
    "\n",
    "def get_batch(batch_size, dataset, unique_labels, label_indices_map, get_embed):\n",
    "    while True:\n",
    "        idxs_a, idxs_p, idxs_n = [], [], []\n",
    "        for _ in range(batch_size):\n",
    "            a, p, n = get_triplets(unique_labels, label_indices_map)\n",
    "            idxs_a.append(a)\n",
    "            idxs_p.append(p)\n",
    "            idxs_n.append(n)\n",
    "\n",
    "        a = dataset.iloc[idxs_a].values.tolist()\n",
    "        b = dataset.iloc[idxs_p].values.tolist()\n",
    "        c = dataset.iloc[idxs_n].values.tolist()\n",
    "\n",
    "        a = get_embed(a).numpy()\n",
    "        p = get_embed(b).numpy()\n",
    "        n = get_embed(c).numpy()\n",
    "\n",
    "        yield a, p, n\n",
    "\n",
    "def create_label_indices_map(dataset, collabel):\n",
    "    unique_labels = np.array(dataset[collabel].unique().tolist())\n",
    "    labels = np.array(dataset[collabel].tolist())\n",
    "    label_indices_map = {\n",
    "        label: np.flatnonzero(labels == label)\n",
    "        for label in unique_labels\n",
    "    }\n",
    "    return unique_labels, label_indices_map\n",
    "\n",
    "def triplet_generator(batch_size, dataset, unique_labels, label_indices_map, get_embed):\n",
    "    while True:\n",
    "        for a, p, n in get_batch(batch_size, dataset, unique_labels, label_indices_map, get_embed):\n",
    "            yield (a, p, n), np.zeros((batch_size,))\n",
    "\n",
    "def create_trip_dtset(batch_size, dataset, colfeat, collabel, get_embed, embed_dim=512):\n",
    "    unique_labels, label_indices_map = create_label_indices_map(dataset, collabel)\n",
    "    \n",
    "    output_signature = (\n",
    "        (\n",
    "            tf.TensorSpec(shape=(None, embed_dim), dtype=tf.float32),\n",
    "            tf.TensorSpec(shape=(None, embed_dim), dtype=tf.float32),\n",
    "            tf.TensorSpec(shape=(None, embed_dim), dtype=tf.float32)\n",
    "        ),\n",
    "        tf.TensorSpec(shape=(None,), dtype=tf.float32)\n",
    "    )\n",
    "    \n",
    "    dataset_tf = tf.data.Dataset.from_generator(\n",
    "        lambda: triplet_generator(\n",
    "            batch_size, dataset[colfeat], unique_labels, label_indices_map, get_embed),\n",
    "        output_signature=output_signature\n",
    "    )\n",
    "    return dataset_tf"
   ],
   "metadata": {
    "trusted": true,
    "execution": {
     "iopub.status.busy": "2025-02-22T22:08:30.357919Z",
     "iopub.execute_input": "2025-02-22T22:08:30.358230Z",
     "iopub.status.idle": "2025-02-22T22:08:30.367063Z",
     "shell.execute_reply.started": "2025-02-22T22:08:30.358205Z",
     "shell.execute_reply": "2025-02-22T22:08:30.366150Z"
    },
    "ExecuteTime": {
     "end_time": "2025-02-23T00:47:22.778088Z",
     "start_time": "2025-02-23T00:47:22.772004Z"
    }
   },
   "outputs": [],
   "execution_count": 3
  },
  {
   "metadata": {
    "ExecuteTime": {
     "end_time": "2025-02-24T02:13:16.841152Z",
     "start_time": "2025-02-24T02:13:16.837577Z"
    }
   },
   "cell_type": "code",
   "source": [
    "# df = pd.read_csv('../data/df.csv')\n",
    "# df.dropna(inplace=True)\n",
    "# df = df.reset_index(drop=True)\n",
    "# print(df.shape)\n",
    "# df.head()"
   ],
   "outputs": [],
   "execution_count": 19
  },
  {
   "metadata": {
    "ExecuteTime": {
     "end_time": "2025-02-24T02:13:18.728163Z",
     "start_time": "2025-02-24T02:13:18.725228Z"
    }
   },
   "cell_type": "code",
   "source": [
    "# train, valid, test = split_data(df)\n",
    "# print(f\"train: {train.shape}, test: {test.shape}, valid: {valid.shape}\")"
   ],
   "outputs": [],
   "execution_count": 20
  }
 ]
}
