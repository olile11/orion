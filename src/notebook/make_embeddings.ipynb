{
 "metadata": {
  "kernelspec": {
   "language": "python",
   "display_name": "Python 3",
   "name": "python3"
  },
  "language_info": {
   "name": "python",
   "version": "3.10.12",
   "mimetype": "text/x-python",
   "codemirror_mode": {
    "name": "ipython",
    "version": 3
   },
   "pygments_lexer": "ipython3",
   "nbconvert_exporter": "python",
   "file_extension": ".py"
  },
  "kaggle": {
   "accelerator": "gpu",
   "dataSources": [
    {
     "sourceId": 10826208,
     "sourceType": "datasetVersion",
     "datasetId": 6722562
    }
   ],
   "dockerImageVersionId": 30919,
   "isInternetEnabled": true,
   "language": "python",
   "sourceType": "notebook",
   "isGpuEnabled": true
  }
 },
 "nbformat_minor": 4,
 "nbformat": 4,
 "cells": [
  {
   "metadata": {
    "ExecuteTime": {
     "end_time": "2025-02-23T00:55:32.480213Z",
     "start_time": "2025-02-23T00:55:32.473871Z"
    }
   },
   "cell_type": "code",
   "source": [
    "import os\n",
    "import torch\n",
    "import numpy as np\n",
    "import pandas as pd"
   ],
   "outputs": [],
   "execution_count": 8
  },
  {
   "metadata": {
    "ExecuteTime": {
     "end_time": "2025-02-23T00:55:32.506255Z",
     "start_time": "2025-02-23T00:55:32.503409Z"
    }
   },
   "cell_type": "code",
   "source": [
    "import tensorflow_text\n",
    "import tensorflow as tf\n",
    "import tensorflow_hub as hub"
   ],
   "outputs": [],
   "execution_count": 9
  },
  {
   "metadata": {
    "trusted": true,
    "execution": {
     "iopub.status.busy": "2025-02-22T22:07:16.945145Z",
     "iopub.execute_input": "2025-02-22T22:07:16.945477Z",
     "iopub.status.idle": "2025-02-22T22:07:16.949798Z",
     "shell.execute_reply.started": "2025-02-22T22:07:16.945451Z",
     "shell.execute_reply": "2025-02-22T22:07:16.948961Z"
    },
    "ExecuteTime": {
     "end_time": "2025-02-23T00:55:32.549796Z",
     "start_time": "2025-02-23T00:55:32.547318Z"
    }
   },
   "cell_type": "code",
   "source": "from transformers import TFAutoModel, AutoTokenizer",
   "outputs": [],
   "execution_count": 10
  },
  {
   "metadata": {},
   "cell_type": "code",
   "source": [
    "bert_name = \"neuralmind/bert-base-portuguese-cased\"\n",
    "bert_model = TFAutoModel.from_pretrained(bert_name)\n",
    "tokenizer = AutoTokenizer.from_pretrained(bert_name)"
   ],
   "outputs": [],
   "execution_count": null
  },
  {
   "cell_type": "code",
   "source": [
    "def get_embed(texts, max_length=128):\n",
    "    inputs = tokenizer(\n",
    "        texts, padding=True, \n",
    "        truncation=True, \n",
    "        max_length=max_length, \n",
    "        return_tensors=\"tf\")\n",
    "    outputs = bert_model(inputs)\n",
    "    embeds = outputs.last_hidden_state[:, 0, :]\n",
    "    return embeds"
   ],
   "metadata": {
    "trusted": true,
    "execution": {
     "iopub.status.busy": "2025-02-22T22:07:53.825633Z",
     "iopub.execute_input": "2025-02-22T22:07:53.825967Z",
     "iopub.status.idle": "2025-02-22T22:07:53.830318Z",
     "shell.execute_reply.started": "2025-02-22T22:07:53.825942Z",
     "shell.execute_reply": "2025-02-22T22:07:53.829495Z"
    },
    "ExecuteTime": {
     "end_time": "2025-02-23T01:20:05.612424Z",
     "start_time": "2025-02-23T01:20:05.593175Z"
    }
   },
   "outputs": [],
   "execution_count": 17
  },
  {
   "metadata": {
    "ExecuteTime": {
     "end_time": "2025-02-23T00:56:25.221947Z",
     "start_time": "2025-02-23T00:55:35.507813Z"
    }
   },
   "cell_type": "code",
   "source": "get_use_embed = hub.load(\"https://tfhub.dev/google/universal-sentence-encoder-multilingual/3\")",
   "outputs": [],
   "execution_count": 14
  }
 ]
}
