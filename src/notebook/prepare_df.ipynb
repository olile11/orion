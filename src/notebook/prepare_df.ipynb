{
 "cells": [
  {
   "metadata": {},
   "cell_type": "markdown",
   "source": "## Notebook contém código para extrair e combinar df de diferentes arquivos",
   "id": "61bab60105dee9fd"
  },
  {
   "metadata": {
    "ExecuteTime": {
     "end_time": "2025-02-17T16:39:04.589309Z",
     "start_time": "2025-02-17T16:39:03.612214Z"
    }
   },
   "cell_type": "code",
   "source": [
    "import os\n",
    "import numpy as np\n",
    "import pandas as pd\n",
    "import unicodedata, re\n",
    "import matplotlib.pyplot as plt\n",
    "#from jupyter_core.migrate import regex"
   ],
   "id": "3383b336e8bc6a6a",
   "outputs": [],
   "execution_count": 1
  },
  {
   "metadata": {
    "ExecuteTime": {
     "end_time": "2025-02-17T16:43:35.148293Z",
     "start_time": "2025-02-17T16:43:35.141541Z"
    }
   },
   "cell_type": "code",
   "source": [
    "def load_data(name):\n",
    "    tmp = pd.read_csv(f\"../data/{name}\")\n",
    "    tmp.rename(columns={'Name': 'name',\n",
    "                           'Price': 'price',\n",
    "                           'Brand': 'brand',\n",
    "                           'Category': 'category'}, inplace=True)\n",
    "    tmp = tmp[['name', 'price', 'category', 'brand']]\n",
    "    tmp.dropna(inplace=True)\n",
    "\n",
    "    return tmp"
   ],
   "id": "ec631bb2605fbd27",
   "outputs": [],
   "execution_count": 2
  },
  {
   "metadata": {
    "ExecuteTime": {
     "end_time": "2025-02-17T16:43:43.031556Z",
     "start_time": "2025-02-17T16:43:42.410951Z"
    }
   },
   "cell_type": "code",
   "source": [
    "files = [\"df_nondim.csv\", \"df.csv\", \"tupan_0x0.csv\",\n",
    "         \"tupan_0x1.csv\", \"tupan_0x2.csv\", \"tupan_0x3.csv\"]\n",
    "dt = pd.DataFrame(columns=['name', 'price', 'category', 'brand'])\n",
    "for file in files:\n",
    "    aux = load_data(file)\n",
    "    dt = pd.concat([dt.astype(aux.dtypes), aux.astype(dt.dtypes)],\n",
    "                   ignore_index=True)\n",
    "dt.drop_duplicates(subset=[\"name\"], inplace=True)\n",
    "raw_df = dt.copy(deep=True)\n",
    "print(f\"shape: {dt.shape}\")"
   ],
   "id": "b07fc4ae15ba68fc",
   "outputs": [
    {
     "name": "stdout",
     "output_type": "stream",
     "text": [
      "shape: (13060, 4)\n"
     ]
    }
   ],
   "execution_count": 3
  },
  {
   "metadata": {
    "ExecuteTime": {
     "end_time": "2025-02-11T11:21:14.995953Z",
     "start_time": "2025-02-11T11:21:14.938547Z"
    }
   },
   "cell_type": "code",
   "source": "dt.to_csv(\"clean_dt.csv\", index=False)",
   "id": "bef70fe13fee553e",
   "outputs": [],
   "execution_count": 11
  },
  {
   "metadata": {
    "ExecuteTime": {
     "end_time": "2025-02-17T16:44:14.252244Z",
     "start_time": "2025-02-17T16:44:14.032005Z"
    }
   },
   "cell_type": "code",
   "source": [
    "def handle_name_0x1(row):\n",
    "    name = unicodedata.normalize('NFD', str(row))\n",
    "\n",
    "    name = re.sub(r',', '.', name)\n",
    "    name = re.sub(r'[></-]', '', name)\n",
    "    name = re.sub(r'\\s*/?\\s*ref\\.\\s*\\w+', '', name, flags=re.IGNORECASE)\n",
    "\n",
    "    name = ''.join([char for char in name if not unicodedata.combining(char)])\n",
    "    return name\n",
    "def handle_cate_0x1(row):\n",
    "    category = unicodedata.normalize('NFD', str(row))\n",
    "    category = category.lower()\n",
    "    category = re.sub(r'[0-9]', '', category)\n",
    "    category = ''.join([\n",
    "        char for char in category\n",
    "        if not unicodedata.combining(char)])\n",
    "    words = category.split()\n",
    "    unique_words = []\n",
    "    [unique_words.append(word)\n",
    "     for word in words if word not in unique_words]\n",
    "    unique_category = \" \".join(unique_words)\n",
    "    #category = unique_category.upper()\n",
    "    return category\n",
    "def handle_name_category(row):\n",
    "    name = unicodedata.normalize('NFD', str(row['name']))\n",
    "    category = unicodedata.normalize('NFD', str(row['category']))\n",
    "    #name = name.lower()\n",
    "    category = category.lower()\n",
    "\n",
    "    name = re.sub(r',', '.', name)\n",
    "    name = re.sub(r'[></-]', '', name)\n",
    "    category = re.sub(r'[0-9.,>/-]', '', category)\n",
    "    name = re.sub(r'\\s*/?\\s*ref\\.\\s*\\w+', '', name, flags=re.IGNORECASE)\n",
    "\n",
    "    name = ''.join([char for char in name if not unicodedata.combining(char)])\n",
    "    category = ''.join([char for char in category if not unicodedata.combining(char)])\n",
    "\n",
    "    words = category.split()\n",
    "    unique_words = []\n",
    "    [unique_words.append(word)\n",
    "      for word in words if word not in unique_words]\n",
    "    unique_category = \" \".join(unique_words)\n",
    "    row[\"name\"] = name\n",
    "    row[\"category\"] = unique_category.upper()\n",
    "    row[\"features\"] = row[\"name\"] + \" SEP \" + unique_category\n",
    "    return row\n",
    "\n",
    "#df = df.apply(handle_name_category, axis=1)\n",
    "#df = df.drop_duplicates(subset=[\"name\"])\n",
    "#print(f\"shape: {df.shape}\")\n",
    "#df[\"name\"] = df[\"name\"].apply(handle_name_0x1)\n",
    "dt[\"category\"] = dt[\"category\"].apply(handle_cate_0x1)\n",
    "df = dt.copy()\n",
    "dt.head(5)"
   ],
   "id": "bcc150fb737646b2",
   "outputs": [
    {
     "data": {
      "text/plain": [
       "                                                name price  \\\n",
       "0  Telha Ecológica Clássica Fit 200x75cm Vermelho...  85.9   \n",
       "1  Pneu 325 Aro 8 com 2 Lonas Leve COLSON / REF. ...  32.9   \n",
       "2  Caixa para Massa de Plástico 20 Litros Reforça...  24.9   \n",
       "3  Esquadro em Aço 14 Polegadas x35,5cm com Cabo ...  18.9   \n",
       "4  Esquadro em Aço 12 Polegadas x30,4cm com Cabo ...  17.9   \n",
       "\n",
       "                                            category     brand  \n",
       "0                   telhas > telhas de fibra vegetal  ONDULINE  \n",
       "1            maquinas para construcao > carro de mao    COLSON  \n",
       "2  acessorios para construcao > acessorios para c...  DIMAX BR  \n",
       "3  acessorios para construcao > acessorios para c...  DIMAX BR  \n",
       "4  acessorios para construcao > acessorios para c...  DIMAX BR  "
      ],
      "text/html": [
       "<div>\n",
       "<style scoped>\n",
       "    .dataframe tbody tr th:only-of-type {\n",
       "        vertical-align: middle;\n",
       "    }\n",
       "\n",
       "    .dataframe tbody tr th {\n",
       "        vertical-align: top;\n",
       "    }\n",
       "\n",
       "    .dataframe thead th {\n",
       "        text-align: right;\n",
       "    }\n",
       "</style>\n",
       "<table border=\"1\" class=\"dataframe\">\n",
       "  <thead>\n",
       "    <tr style=\"text-align: right;\">\n",
       "      <th></th>\n",
       "      <th>name</th>\n",
       "      <th>price</th>\n",
       "      <th>category</th>\n",
       "      <th>brand</th>\n",
       "    </tr>\n",
       "  </thead>\n",
       "  <tbody>\n",
       "    <tr>\n",
       "      <th>0</th>\n",
       "      <td>Telha Ecológica Clássica Fit 200x75cm Vermelho...</td>\n",
       "      <td>85.9</td>\n",
       "      <td>telhas &gt; telhas de fibra vegetal</td>\n",
       "      <td>ONDULINE</td>\n",
       "    </tr>\n",
       "    <tr>\n",
       "      <th>1</th>\n",
       "      <td>Pneu 325 Aro 8 com 2 Lonas Leve COLSON / REF. ...</td>\n",
       "      <td>32.9</td>\n",
       "      <td>maquinas para construcao &gt; carro de mao</td>\n",
       "      <td>COLSON</td>\n",
       "    </tr>\n",
       "    <tr>\n",
       "      <th>2</th>\n",
       "      <td>Caixa para Massa de Plástico 20 Litros Reforça...</td>\n",
       "      <td>24.9</td>\n",
       "      <td>acessorios para construcao &gt; acessorios para c...</td>\n",
       "      <td>DIMAX BR</td>\n",
       "    </tr>\n",
       "    <tr>\n",
       "      <th>3</th>\n",
       "      <td>Esquadro em Aço 14 Polegadas x35,5cm com Cabo ...</td>\n",
       "      <td>18.9</td>\n",
       "      <td>acessorios para construcao &gt; acessorios para c...</td>\n",
       "      <td>DIMAX BR</td>\n",
       "    </tr>\n",
       "    <tr>\n",
       "      <th>4</th>\n",
       "      <td>Esquadro em Aço 12 Polegadas x30,4cm com Cabo ...</td>\n",
       "      <td>17.9</td>\n",
       "      <td>acessorios para construcao &gt; acessorios para c...</td>\n",
       "      <td>DIMAX BR</td>\n",
       "    </tr>\n",
       "  </tbody>\n",
       "</table>\n",
       "</div>"
      ]
     },
     "execution_count": 4,
     "metadata": {},
     "output_type": "execute_result"
    }
   ],
   "execution_count": 4
  },
  {
   "metadata": {},
   "cell_type": "code",
   "outputs": [],
   "execution_count": null,
   "source": [
    "values_0x0 = {\"acabamentos\":\"acabamentos\",  \"acessorios agricolas\":\"acess_agricolas\", \"acessorios automotivos\":\"acess_automotivos\",\n",
    "              \"acessorios de iluminacao de uso geral\":\"acess_iluminacao\",\n",
    "              \"acessorios de jardinagem\":\"acess_jardinagem\", \"jardim\":\"acess_jardinagem\", \"maquinas e ferramentas de jardinagem\":\"acess_jardinagem\",\n",
    "              \"acessorios de tecnologia\":\"acess_tecnologia\",\"seguranca\":\"acess_tecnologia\",\n",
    "              \"acessorios e conexoes eletricas\":\"acess_conexoes_eletricas\", \"fitas e mangueiras de led\":\"acess_conexoes_eletricas\",\n",
    "              \"kits trilho\":\"acess_conexoes_eletricas\", \"acessorios e utensilios de cozinha\":\"acess_utensilios_cozinha\",\n",
    "              \"acessorios e utensilios de lavanderia\":\"acess_utensilios_lavanderia\", \"acessorios para construcao\":\"acess_construcao\",\n",
    "              \"ferramentas para construcao\":\"acess_construcao\", \"maquinas para construcao\":\"acess_construcao\",\n",
    "              \"acessorios para decoracao\":\"acess_decoracao\", \"acessorios para ferramentas\":\"acess_ferramentas\", \"acessorios para pintura\":\"acess_pintura\",\n",
    "              \"acessorios para pisos e revestimentos\":\"acess_pisos_revestimentos\", \"acessorios sanitarios\":\"acess_sanitarios\", \"aco\":\"aco\",\n",
    "              \"adornos\":\"adornos\", \"outros adornos\":\"adornos\", \"arandelas\":\"arandelas\", \"argamassas e rejuntes\":\"argamassas_rejuntes\",\n",
    "              \"massa\":\"argamassas_rejuntes\", \"materiais de campo\":\"argamassas_rejuntes\",\n",
    "              \"assentos sanitarios\":\"assentos_sanitarios\", \"bacias e caixas\":\"bacias_caixas\", \"banho\":\"banho\", \"bombas e filtros\":\"bombas_filtros\",\n",
    "              \"brocas\":\"brocas\", \"cabos, fios e conectores\":\"cabos_fios_conectores\", \"caixas, quadros e disjuntores\":\"caixas_quadros_disjuntores\",\n",
    "              \"cama\":\"cama\", \"casa\":\"casa\", \"churrasco\":\"churrasco\", \"chuveiros\":\"chuveiros\", \"complementos\":\"complementos\", \"conexoes\":\"conexoes\",\n",
    "              \"cortinas e persianas\":\"cortinas_persianas\", \"cozinha\":\"cozinha\", \"cubas, pias e balcoes\":\"cubas_pias_balcoes\",\n",
    "              \"discos e rebolos\":\"discos_rebolos\", \"duchas higienicas\":\"duchas_higienicas\", \"eletroportateis\":\"eletroportateis\", \"epi\":\"epi\",\n",
    "              \"fechaduras\":\"fechaduras\",\n",
    "              \"ferramentas a bateria\":\"ferramentas_eletricas\", \"ferramentas eletricas\":\"ferramentas_eletricas\",\n",
    "              \"ferramentas agricolas\":\"ferramentas agricolas\",\n",
    "              \"ferramentas manuais\":\"ferramentas_manuais\",\n",
    "              \"impermeabilizantes\":\"impermeabilizantes\", \"interruptores\":\"interruptores_tomadas\", \"tomadas\":\"interruptores_tomadas\",\n",
    "              \"janelas\":\"janelas\", \"lampadas\":\"lampadas\", \"lavatorios\":\"lavatorios\", \"limpeza\":\"limpeza\", \"lonas\":\"lonas\",\n",
    "              \"luminarias\":\"luminarias_refletores\", \"refletores\":\"luminarias_refletores\", \"spots\":\"luminarias_refletores\",\n",
    "              \"moveis\":\"moveis\", \"paineis de led\":\"paineis_led\", \"pinceis\":\"pinceis\", \"pisos\":\"pisos\", \"porcelanatos\":\"porcelanatos\", \"portas\":\"portas\",\n",
    "              \"prateleiras\":\"prateleiras\", \"registros\":\"registros\", \"revestimentos\":\"revestimentos\", \"tintas\":\"tintas\", \"torneiras\":\"torneiras\",\n",
    "              \"piscinas\":\"piscinas_tratamento\",\"tratamento\":\"piscinas_tratamento\", \"tubos\":\"tubos\", \"ferragens\":\"ferragens\"\n",
    "              }\n",
    "keys_0x1 = {(\"grelhas\", \"calhas\"): \"acess_hidraulico\", \"acessorios hidraulicos de uso geral\": \"acess_hidraul_geral\"}\n",
    "len(values_0x0)"
   ],
   "id": "f40957eec78df426"
  },
  {
   "metadata": {
    "ExecuteTime": {
     "end_time": "2025-02-17T16:45:52.422833Z",
     "start_time": "2025-02-17T16:45:52.412218Z"
    }
   },
   "cell_type": "code",
   "source": [
    "#startswith\n",
    "keys_0x0 = [\"acabamentos\", \"acessorios agricolas\",\"acessorios automotivos\", \"acessorios de iluminacao de uso geral\",\n",
    "        (\"acessorios de jardinagem\", \"jardim\", \"maquinas e ferramentas de jardinagem\"), (\"acessorios de tecnologia\",\"seguranca\"), (\"acessorios e conexoes eletricas\", \"fitas e mangueiras de led\", \"kits trilho\"),\n",
    "        \"acessorios e utensilios de cozinha\", \"acessorios e utensilios de lavanderia\", (\"acessorios para construcao\", \"ferramentas para construcao\", \"maquinas para construcao\"),\n",
    "        \"acessorios para decoracao\", \"acessorios para ferramentas\", \"acessorios para pintura\",\n",
    "        \"acessorios para pisos e revestimentos\", \"acessorios sanitarios\", \"aco\", (\"adornos\", \"outros adornos\"), \"arandelas\",\n",
    "        (\"argamassas e rejuntes\", \"massa\", \"materiais de campo\"), \"assentos sanitarios\", \"bacias e caixas\", \"banho\", \"bombas e filtros\",\n",
    "        \"brocas\", \"cabos, fios e conectores\", \"caixas, quadros e disjuntores\", \"cama\", \"casa\", \"churrasco\",\n",
    "        \"chuveiros\", \"complementos\", \"conexoes\", \"cortinas e persianas\", \"cozinha\", \"cubas, pias e balcoes\",\n",
    "        \"discos e rebolos\", \"duchas higienicas\", \"eletroportateis\", \"epi\", \"fechaduras\",\n",
    "        (\"ferramentas a bateria\", \"ferramentas eletricas\"), \"ferramentas agricolas\", \"ferramentas manuais\",\n",
    "        \"impermeabilizantes\", (\"interruptores\", \"tomadas\"), \"janelas\", \"lampadas\", \"lavatorios\", \"limpeza\", \"lonas\",\n",
    "        (\"luminarias\", \"refletores\", \"spots\"), \"moveis\", \"paineis de led\", \"pinceis\", \"pisos\", \"porcelanatos\", \"portas\", \"prateleiras\", \"registros\", \"revestimentos\", \"tintas\", \"torneiras\", (\"piscinas\",\"tratamento\"),\n",
    "        \"tubos\",\n",
    "        ]\n",
    "#endswith\n",
    "keys_0x1 = [(\"grelhas\", \"calhas\"):\"acess_hidraulico\", \"acessorios hidraulicos de uso geral\":\"acess_hidraul_geral\"]"
   ],
   "id": "ea82e18ef3e68f9c",
   "outputs": [],
   "execution_count": 5
  },
  {
   "metadata": {
    "ExecuteTime": {
     "end_time": "2025-02-17T16:46:05.489572Z",
     "start_time": "2025-02-17T16:46:05.479987Z"
    }
   },
   "cell_type": "code",
   "source": "len(keys_0x0)",
   "id": "bf088bdc034b0eae",
   "outputs": [
    {
     "data": {
      "text/plain": [
       "64"
      ]
     },
     "execution_count": 6,
     "metadata": {},
     "output_type": "execute_result"
    }
   ],
   "execution_count": 6
  },
  {
   "metadata": {
    "ExecuteTime": {
     "end_time": "2025-02-17T20:29:43.956734Z",
     "start_time": "2025-02-17T20:29:43.925112Z"
    }
   },
   "cell_type": "code",
   "source": [
    "dt[dt.category.str.startswith(\"tintas\")][[\"name\",\"category\"]]\n",
    "#dt[dt.category.str.endswith((\"cadeados\"))][[\"name\", \"category\"]]"
   ],
   "id": "7fcc895fc51ec289",
   "outputs": [
    {
     "data": {
      "text/plain": [
       "                                                    name  \\\n",
       "1887   Tinta Esmalte Auto Brilho 750ml Dialine Base Á...   \n",
       "1888   Tinta Esmalte Auto Brilho 750ml Dialine Base Á...   \n",
       "1889   Tinta Esmalte Auto Brilho 750ml Dialine Base Á...   \n",
       "1890   Tinta Esmalte Auto Brilho 750ml Dialine Base Á...   \n",
       "1891   Tinta Esmalte Auto Brilho 750ml Dialine Base Á...   \n",
       "...                                                  ...   \n",
       "31740  Tinta Esmalte Sintético Brilhante Hammerite Pr...   \n",
       "31741  Tinta Esmalte Sintético Brilhante Hammerite Pr...   \n",
       "31742  Tinta Esmalte Sintético Brilhante Hammerite Pr...   \n",
       "31743  Tinta Esmalte Sintético Brilhante Hammerite Pr...   \n",
       "31744  Tinta Esmalte Sintético Brilhante Hammerite Pr...   \n",
       "\n",
       "                                 category  \n",
       "1887   tintas esmaltes > esmaltes premium  \n",
       "1888   tintas esmaltes > esmaltes premium  \n",
       "1889   tintas esmaltes > esmaltes premium  \n",
       "1890   tintas esmaltes > esmaltes premium  \n",
       "1891   tintas esmaltes > esmaltes premium  \n",
       "...                                   ...  \n",
       "31740  tintas esmaltes > esmaltes premium  \n",
       "31741  tintas esmaltes > esmaltes premium  \n",
       "31742  tintas esmaltes > esmaltes premium  \n",
       "31743  tintas esmaltes > esmaltes premium  \n",
       "31744  tintas esmaltes > esmaltes premium  \n",
       "\n",
       "[772 rows x 2 columns]"
      ],
      "text/html": [
       "<div>\n",
       "<style scoped>\n",
       "    .dataframe tbody tr th:only-of-type {\n",
       "        vertical-align: middle;\n",
       "    }\n",
       "\n",
       "    .dataframe tbody tr th {\n",
       "        vertical-align: top;\n",
       "    }\n",
       "\n",
       "    .dataframe thead th {\n",
       "        text-align: right;\n",
       "    }\n",
       "</style>\n",
       "<table border=\"1\" class=\"dataframe\">\n",
       "  <thead>\n",
       "    <tr style=\"text-align: right;\">\n",
       "      <th></th>\n",
       "      <th>name</th>\n",
       "      <th>category</th>\n",
       "    </tr>\n",
       "  </thead>\n",
       "  <tbody>\n",
       "    <tr>\n",
       "      <th>1887</th>\n",
       "      <td>Tinta Esmalte Auto Brilho 750ml Dialine Base Á...</td>\n",
       "      <td>tintas esmaltes &gt; esmaltes premium</td>\n",
       "    </tr>\n",
       "    <tr>\n",
       "      <th>1888</th>\n",
       "      <td>Tinta Esmalte Auto Brilho 750ml Dialine Base Á...</td>\n",
       "      <td>tintas esmaltes &gt; esmaltes premium</td>\n",
       "    </tr>\n",
       "    <tr>\n",
       "      <th>1889</th>\n",
       "      <td>Tinta Esmalte Auto Brilho 750ml Dialine Base Á...</td>\n",
       "      <td>tintas esmaltes &gt; esmaltes premium</td>\n",
       "    </tr>\n",
       "    <tr>\n",
       "      <th>1890</th>\n",
       "      <td>Tinta Esmalte Auto Brilho 750ml Dialine Base Á...</td>\n",
       "      <td>tintas esmaltes &gt; esmaltes premium</td>\n",
       "    </tr>\n",
       "    <tr>\n",
       "      <th>1891</th>\n",
       "      <td>Tinta Esmalte Auto Brilho 750ml Dialine Base Á...</td>\n",
       "      <td>tintas esmaltes &gt; esmaltes premium</td>\n",
       "    </tr>\n",
       "    <tr>\n",
       "      <th>...</th>\n",
       "      <td>...</td>\n",
       "      <td>...</td>\n",
       "    </tr>\n",
       "    <tr>\n",
       "      <th>31740</th>\n",
       "      <td>Tinta Esmalte Sintético Brilhante Hammerite Pr...</td>\n",
       "      <td>tintas esmaltes &gt; esmaltes premium</td>\n",
       "    </tr>\n",
       "    <tr>\n",
       "      <th>31741</th>\n",
       "      <td>Tinta Esmalte Sintético Brilhante Hammerite Pr...</td>\n",
       "      <td>tintas esmaltes &gt; esmaltes premium</td>\n",
       "    </tr>\n",
       "    <tr>\n",
       "      <th>31742</th>\n",
       "      <td>Tinta Esmalte Sintético Brilhante Hammerite Pr...</td>\n",
       "      <td>tintas esmaltes &gt; esmaltes premium</td>\n",
       "    </tr>\n",
       "    <tr>\n",
       "      <th>31743</th>\n",
       "      <td>Tinta Esmalte Sintético Brilhante Hammerite Pr...</td>\n",
       "      <td>tintas esmaltes &gt; esmaltes premium</td>\n",
       "    </tr>\n",
       "    <tr>\n",
       "      <th>31744</th>\n",
       "      <td>Tinta Esmalte Sintético Brilhante Hammerite Pr...</td>\n",
       "      <td>tintas esmaltes &gt; esmaltes premium</td>\n",
       "    </tr>\n",
       "  </tbody>\n",
       "</table>\n",
       "<p>772 rows × 2 columns</p>\n",
       "</div>"
      ]
     },
     "execution_count": 13,
     "metadata": {},
     "output_type": "execute_result"
    }
   ],
   "execution_count": 13
  },
  {
   "metadata": {
    "ExecuteTime": {
     "end_time": "2025-01-23T19:03:44.655873Z",
     "start_time": "2025-01-23T19:03:44.649056Z"
    }
   },
   "cell_type": "code",
   "source": [
    "#df[df.category.str.startswith(\"portas\")] x\n",
    "# df[(df[\"category\"].str.startswith(\"ferragens\")\n",
    "#    | df[\"category\"].str.endswith(\"ferragens\"))\n",
    "#    & ~df[\"category\"].str.endswith((\"fechaduras\", \"cadeados\"))] #= ferragens ok\n",
    "# df[df[\"category\"].str.endswith((\"parafusos\", \"buchas\"))]\n",
    "# df[df.category.str.startswith((\"cabos\", \"fios\", \"conectores\"))] #= cabos_fios ok\n",
    "# df[df.category.str.startswith(\"acessorios sanitarios\") &\n",
    "#    ~df.category.str.endswith(\"acessorios avulsos\")] #= acessorio_sanitario ok\n",
    "#df[df.category.str.endswith(\"acessorios avulsos\")] #= acessorios_sani_avulsos\n",
    "#df[df.category.str.startswith((\"caixas\", \"quadros\" \"disjuntores\"))] #= caixas_disjuntores ok\n",
    "# df[df.category.str.endswith(\n",
    "#     (\"tomadas\", \"modulares\", \"tomadas simples\", \"tomadas conjunto\", \"interruptores\", \"interruptores simples\", \"interruptores conjunto\"))] #tomadas_interruptores #= ok\n",
    "# df[df.category.str.endswith(\n",
    "#     (\"sensores de presenca\", \"molduras e placas\", \"sistema x\", \"campanhias\"))] #= sensores_placas ok\n",
    "#df[df.category.str.startswith(\"ferramentas manuais\")] #= ferramentas_manuais ok x\n",
    "#df[df.category.str.startswith(\"ferramentas eletricas\")] #= ferramentas_eletricas ok\n",
    "#df[df.category.str.startswith(\"ferramentas a bateria\")]#= ferramentas_eletricas ok\n",
    "#df[df.category.str.startswith(\"acessorios para ferramentas\")] #= acessorios_ferramenta ok x\n",
    "#df[df.category.str.startswith(\"tintas\")] #= tintas ok x\n",
    "#df[df.category.str.startswith((\"complementos\", \"seladores\"))] #= complementos_tintas ok\n",
    "#df[df.category.str.startswith((\"pinceis\", \"rolos\"))] #= acessorios_pintura ok\n",
    "#df[df.category.str.startswith((\"porcelanatos\"))] #= porcelanato ok x\n",
    "#df[df.category.str.startswith((\"pisos\"))] #=pisos ok x\n",
    "#df[df.category.str.startswith((\"revestimentos\"))] #= revestimentos ok x\n",
    "#df[df.category.str.startswith(\"acessorios para pisos\")] #= aces_pisos ok x\n",
    "#df[df.category.str.startswith(\"tubos\") & ~df.category.str.endswith(\"conexoes\")] #= tubos ok\n",
    "#df[df.category.str.startswith(\"conexoes\") | df.category.str.endswith(\"conexoes\")] #= conexoes ok\n",
    "#df[df.category.str.startswith(\"acessorios hidraulicos\")] #= acessorios_hidraulicos ok x\n",
    "#df[df.category.str.startswith(\"reservatorios\")] #= reservatorios ok uns x\n",
    "#df[df.category.str.startswith(\"bombas\")] #= bombas_filtros ok x\n",
    "#df[df.category.str.startswith(\"telhas\")] #= telhas ok x\n",
    "#df[df.category.str.startswith((\"materiais de campo\", \"cimento\"))] #= materiais_campo ok insuf\n",
    "#df[df.category.str.startswith((\"aco\", \"complementos de aco\"))] #= aco ok insuf\n",
    "#df[df.category.str.startswith(\"lonas\")] #= lonas ok insuf x\n",
    "#df[df.category.str.startswith(\"acabamentos\")] #= acabamentos x\n",
    "#df[df.category.str.startswith((\"cubas\", \"pias\", \"balcoes\"))] #= cubas_pias\n",
    "# df[df.category.str.startswith(\"fechaduras\")\n",
    "# | df[\"category\"].str.endswith(\"fechaduras\")][[\"name\", \"category\"]] #= fechaduras\n",
    "#df[df.category.str.startswith(\"ferramentas para construcao\")] #= ferramentas_contrucao x"
   ],
   "id": "dcb4eb37f7d22053",
   "outputs": [],
   "execution_count": 39
  },
  {
   "metadata": {
    "ExecuteTime": {
     "end_time": "2025-01-23T19:32:49.695644Z",
     "start_time": "2025-01-23T19:32:49.691901Z"
    }
   },
   "cell_type": "code",
   "source": [
    "patterns = {\n",
    "    \"portas\": \"portas\", \"ferramentas manuais\": \"ferramentas_manuais\",\n",
    "    \"acessorios para ferramentas\": \"acessorios_ferramentas\", \"tintas\": \"tintas\",\n",
    "    \"porcelanatos\": \"porcelanatos\", \"pisos\": \"pisos\", \"revestimentos\": \"revestimentos\",\n",
    "    \"ferramentas para construcao\": \"ferramentas_contrucao\", \"acabamentos\": \"acabamentos\",\n",
    "    \"lonas\": \"lonas\", \"telhas\": \"telhas\", \"bombas\": \"bombas_filtros\", \"reservatorios\": \"reservatorios\",\n",
    "    \"acessorios hidraulicos\": \"acessorios_hidraulicos\", \"acessorios para pisos\": \"acessorios_pisos\"\n",
    " }"
   ],
   "id": "b675829f0e365243",
   "outputs": [],
   "execution_count": 45
  },
  {
   "metadata": {
    "ExecuteTime": {
     "end_time": "2025-01-23T19:42:19.983365Z",
     "start_time": "2025-01-23T19:42:19.980198Z"
    }
   },
   "cell_type": "code",
   "source": "",
   "id": "fd1ed158c9326d33",
   "outputs": [],
   "execution_count": null
  },
  {
   "metadata": {
    "ExecuteTime": {
     "end_time": "2025-01-23T19:40:14.814073Z",
     "start_time": "2025-01-23T19:40:14.747029Z"
    }
   },
   "cell_type": "code",
   "source": [
    "for pattern, new_category in patterns.items():\n",
    "    df[\"category\"].loc[df['category'].str.startswith(pattern)] = new_category"
   ],
   "id": "97398c3b21592d48",
   "outputs": [],
   "execution_count": 54
  },
  {
   "metadata": {
    "ExecuteTime": {
     "end_time": "2025-01-23T19:42:30.233258Z",
     "start_time": "2025-01-23T19:42:30.221299Z"
    }
   },
   "cell_type": "code",
   "source": "df[df.category.str.startswith())]",
   "id": "f6b14f5aa7872254",
   "outputs": [
    {
     "data": {
      "text/plain": [
       "                                                    name  price  \\\n",
       "0      Telha Ecológica Clássica Fit 200x75cm Vermelho...   85.9   \n",
       "5      Telha Ecológica Stilo 3D 96cmx2Metros Vermelho...  109.9   \n",
       "11     Kit Parafuso 10 Peças para Fixação de Telha Co...   16.9   \n",
       "12     Telha Ecológica Stilo 3D 96cmx2Metros Verde ON...   99.9   \n",
       "13     Telha Ecológica Clássica Fit 75cmx2Metros Verd...   89.9   \n",
       "...                                                  ...    ...   \n",
       "54003  Porta de Giro Basculante Lado Direito Home de ...  519.9   \n",
       "54268  Chave Teste Com Ponta Fenda 1/8X3 Polegadas 80...   20.9   \n",
       "54300  Arco Serra Fixo em Aço 12 Polegadas Com Cabo P...   35.9   \n",
       "54301  Arco de Serra em Aço 12 Polegadas Fixo Eco com...   25.9   \n",
       "54305  Mini Arco de Serra 10 Polegadas com Corpo Inje...   22.9   \n",
       "\n",
       "                     category       brand  \n",
       "0                      telhas    ONDULINE  \n",
       "5                      telhas    ONDULINE  \n",
       "11                     telhas    PRECONVC  \n",
       "12                     telhas    ONDULINE  \n",
       "13                     telhas    ONDULINE  \n",
       "...                       ...         ...  \n",
       "54003                  portas     QUALITY  \n",
       "54268     ferramentas_manuais  TRAMONTINA  \n",
       "54300     ferramentas_manuais  TRAMONTINA  \n",
       "54301     ferramentas_manuais       DIMAX  \n",
       "54305  acessorios_ferramentas  TRAMONTINA  \n",
       "\n",
       "[2992 rows x 4 columns]"
      ],
      "text/html": [
       "<div>\n",
       "<style scoped>\n",
       "    .dataframe tbody tr th:only-of-type {\n",
       "        vertical-align: middle;\n",
       "    }\n",
       "\n",
       "    .dataframe tbody tr th {\n",
       "        vertical-align: top;\n",
       "    }\n",
       "\n",
       "    .dataframe thead th {\n",
       "        text-align: right;\n",
       "    }\n",
       "</style>\n",
       "<table border=\"1\" class=\"dataframe\">\n",
       "  <thead>\n",
       "    <tr style=\"text-align: right;\">\n",
       "      <th></th>\n",
       "      <th>name</th>\n",
       "      <th>price</th>\n",
       "      <th>category</th>\n",
       "      <th>brand</th>\n",
       "    </tr>\n",
       "  </thead>\n",
       "  <tbody>\n",
       "    <tr>\n",
       "      <th>0</th>\n",
       "      <td>Telha Ecológica Clássica Fit 200x75cm Vermelho...</td>\n",
       "      <td>85.9</td>\n",
       "      <td>telhas</td>\n",
       "      <td>ONDULINE</td>\n",
       "    </tr>\n",
       "    <tr>\n",
       "      <th>5</th>\n",
       "      <td>Telha Ecológica Stilo 3D 96cmx2Metros Vermelho...</td>\n",
       "      <td>109.9</td>\n",
       "      <td>telhas</td>\n",
       "      <td>ONDULINE</td>\n",
       "    </tr>\n",
       "    <tr>\n",
       "      <th>11</th>\n",
       "      <td>Kit Parafuso 10 Peças para Fixação de Telha Co...</td>\n",
       "      <td>16.9</td>\n",
       "      <td>telhas</td>\n",
       "      <td>PRECONVC</td>\n",
       "    </tr>\n",
       "    <tr>\n",
       "      <th>12</th>\n",
       "      <td>Telha Ecológica Stilo 3D 96cmx2Metros Verde ON...</td>\n",
       "      <td>99.9</td>\n",
       "      <td>telhas</td>\n",
       "      <td>ONDULINE</td>\n",
       "    </tr>\n",
       "    <tr>\n",
       "      <th>13</th>\n",
       "      <td>Telha Ecológica Clássica Fit 75cmx2Metros Verd...</td>\n",
       "      <td>89.9</td>\n",
       "      <td>telhas</td>\n",
       "      <td>ONDULINE</td>\n",
       "    </tr>\n",
       "    <tr>\n",
       "      <th>...</th>\n",
       "      <td>...</td>\n",
       "      <td>...</td>\n",
       "      <td>...</td>\n",
       "      <td>...</td>\n",
       "    </tr>\n",
       "    <tr>\n",
       "      <th>54003</th>\n",
       "      <td>Porta de Giro Basculante Lado Direito Home de ...</td>\n",
       "      <td>519.9</td>\n",
       "      <td>portas</td>\n",
       "      <td>QUALITY</td>\n",
       "    </tr>\n",
       "    <tr>\n",
       "      <th>54268</th>\n",
       "      <td>Chave Teste Com Ponta Fenda 1/8X3 Polegadas 80...</td>\n",
       "      <td>20.9</td>\n",
       "      <td>ferramentas_manuais</td>\n",
       "      <td>TRAMONTINA</td>\n",
       "    </tr>\n",
       "    <tr>\n",
       "      <th>54300</th>\n",
       "      <td>Arco Serra Fixo em Aço 12 Polegadas Com Cabo P...</td>\n",
       "      <td>35.9</td>\n",
       "      <td>ferramentas_manuais</td>\n",
       "      <td>TRAMONTINA</td>\n",
       "    </tr>\n",
       "    <tr>\n",
       "      <th>54301</th>\n",
       "      <td>Arco de Serra em Aço 12 Polegadas Fixo Eco com...</td>\n",
       "      <td>25.9</td>\n",
       "      <td>ferramentas_manuais</td>\n",
       "      <td>DIMAX</td>\n",
       "    </tr>\n",
       "    <tr>\n",
       "      <th>54305</th>\n",
       "      <td>Mini Arco de Serra 10 Polegadas com Corpo Inje...</td>\n",
       "      <td>22.9</td>\n",
       "      <td>acessorios_ferramentas</td>\n",
       "      <td>TRAMONTINA</td>\n",
       "    </tr>\n",
       "  </tbody>\n",
       "</table>\n",
       "<p>2992 rows × 4 columns</p>\n",
       "</div>"
      ]
     },
     "execution_count": 59,
     "metadata": {},
     "output_type": "execute_result"
    }
   ],
   "execution_count": 59
  }
 ],
 "metadata": {
  "kernelspec": {
   "display_name": "Python 3 (ipykernel)",
   "language": "python",
   "name": "python3"
  },
  "language_info": {
   "codemirror_mode": {
    "name": "ipython",
    "version": 3
   },
   "file_extension": ".py",
   "mimetype": "text/x-python",
   "name": "python",
   "nbconvert_exporter": "python",
   "pygments_lexer": "ipython3",
   "version": "3.12.3"
  }
 },
 "nbformat": 4,
 "nbformat_minor": 5
}
